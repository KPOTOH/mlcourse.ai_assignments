{
 "cells": [
  {
   "cell_type": "markdown",
   "metadata": {
    "_uuid": "540935bf571b28452d474fd9191d8e1e20d87005"
   },
   "source": [
    "# <center> Dota 2 winner prediction\n",
    "\n",
    "<img src='https://habrastorage.org/webt/ua/vn/pq/uavnpqfoih4zwwznvxubu33ispy.jpeg'>\n",
    "\n",
    "#### <center> Originally done by Peter Romov, translated and adapted by Yury Kashnitskiy (@yorko)\n",
    "    \n",
    "### Quick start\n",
    "\n",
    "Grab features prepared by organizers, train a model and submit. \n",
    "\n",
    "1. [Data description](#Data-description)\n",
    "2. [Features created by organizers](#Features-created-by-organizers)\n",
    "3. [Training and evaluating a model](#Training-and-evaluating-a-model)\n",
    "4. [Preparing a submission](#Preparing-a-submission)\n",
    "\n",
    "### Now do it as a real Data Scientist\n",
    "\n",
    "5. [Cross-validation](#Cross-validation)\n",
    "6. [Working with all available information on Dota games](#Working-with-all-available-information-on-Dota-games)\n",
    "7. [Feature engineering](#Feature-engineering)\n",
    "8. [How to build initial features from scratch](#How-to-build-initial-features-from-scratch)"
   ]
  },
  {
   "cell_type": "markdown",
   "metadata": {
    "_uuid": "4339c93b125e5ec10e2fb6e4d5d00892570a2911"
   },
   "source": [
    "## Data description\n",
    "\n",
    "We have the following files:\n",
    "\n",
    "- `sample_submission.csv`: example of a submission file\n",
    "- `train_matches.jsonl`, `test_matches.jsonl`: full \"raw\" training data \n",
    "- `train_features.csv`, `test_features.csv`: features created by organizers\n",
    "- `train_targets.csv`: results of training games (including the winner)"
   ]
  },
  {
   "cell_type": "markdown",
   "metadata": {
    "_uuid": "2df6f18c884cc8dfa75b584d7f71f7d0e89db897"
   },
   "source": [
    "## Features created by organizers\n",
    "\n",
    "These are basic features which include simple players' statistics. Scroll to the end to see how to build these features from raw json files."
   ]
  },
  {
   "cell_type": "code",
   "execution_count": 115,
   "metadata": {},
   "outputs": [],
   "source": [
    "import matplotlib.pyplot as plt\n",
    "import seaborn as sns\n",
    "%matplotlib inline\n",
    "\n",
    "import os\n",
    "import numpy as np\n",
    "import pandas as pd\n",
    "\n",
    "from pathlib import Path\n",
    "PATH_TO_DATA = Path('data/DOTA2/')\n",
    "\n",
    "from sklearn.model_selection import train_test_split\n",
    "from sklearn.linear_model import LogisticRegression\n",
    "from sklearn.ensemble import RandomForestClassifier\n",
    "from sklearn.preprocessing import StandardScaler\n",
    "from sklearn.metrics import accuracy_score\n",
    "from sklearn.metrics import roc_auc_score\n",
    "from sklearn.model_selection import ShuffleSplit, StratifiedKFold, GridSearchCV, cross_val_score\n",
    "import lightgbm as lgb\n",
    "import catboost\n",
    "from catboost import CatBoostClassifier\n",
    "\n",
    "import warnings\n",
    "warnings.filterwarnings('ignore')\n",
    "\n",
    "import datetime\n"
   ]
  },
  {
   "cell_type": "code",
   "execution_count": 127,
   "metadata": {},
   "outputs": [],
   "source": [
    "prs_train = pd.read_csv(os.path.join(PATH_TO_DATA, 'train_matches.csv'), \n",
    "                                             index_col='match_id_hash')\n",
    "\n",
    "prs_test = pd.read_csv(os.path.join(PATH_TO_DATA, 'test_matches.csv'), \n",
    "                                             index_col='match_id_hash')"
   ]
  },
  {
   "cell_type": "code",
   "execution_count": 16,
   "metadata": {},
   "outputs": [],
   "source": [
    "train_y = pd.read_csv(PATH_TO_DATA / 'train_targets.csv', index_col='match_id_hash')['radiant_win']\n",
    "train_y = train_y.map({True: 1, False: 0})\n",
    "target = train_y.values\n",
    "\n",
    "\n",
    "train_df = pd.read_csv(PATH_TO_DATA / 'train_features.csv', index_col='match_id_hash')\n",
    "test_df = pd.read_csv(PATH_TO_DATA / 'test_features.csv', index_col='match_id_hash')\n",
    "\n",
    "\n",
    "full_df = pd.concat([train_df, test_df], sort=False)\n",
    "train_size = train_df.shape[0]"
   ]
  },
  {
   "cell_type": "code",
   "execution_count": 17,
   "metadata": {},
   "outputs": [
    {
     "data": {
      "text/plain": [
       "{'d_tower_kills', 'diff_tower_kills', 'r_tower_kills', 'target'}"
      ]
     },
     "execution_count": 17,
     "metadata": {},
     "output_type": "execute_result"
    }
   ],
   "source": [
    "set(list(prs_train.columns)) - set(list(train_df.columns))"
   ]
  },
  {
   "cell_type": "code",
   "execution_count": 143,
   "metadata": {},
   "outputs": [
    {
     "data": {
      "text/plain": [
       "23807"
      ]
     },
     "execution_count": 143,
     "metadata": {},
     "output_type": "execute_result"
    }
   ],
   "source": [
    "(add_fea_full_df.r_all_towers_killed.values[:train_size] == prs_train.r_tower_kills.values).sum()"
   ]
  },
  {
   "cell_type": "code",
   "execution_count": null,
   "metadata": {},
   "outputs": [],
   "source": [
    "ext"
   ]
  },
  {
   "cell_type": "code",
   "execution_count": 138,
   "metadata": {},
   "outputs": [
    {
     "data": {
      "text/plain": [
       "(39675,)"
      ]
     },
     "execution_count": 138,
     "metadata": {},
     "output_type": "execute_result"
    }
   ],
   "source": [
    "prs_train.r_tower_kills.shape"
   ]
  },
  {
   "cell_type": "code",
   "execution_count": 131,
   "metadata": {},
   "outputs": [
    {
     "data": {
      "text/plain": [
       "{'chat_len',\n",
       " 'd1_teamfight_participation',\n",
       " 'd1_towers_killed',\n",
       " 'd2_teamfight_participation',\n",
       " 'd2_towers_killed',\n",
       " 'd3_teamfight_participation',\n",
       " 'd3_towers_killed',\n",
       " 'd4_teamfight_participation',\n",
       " 'd4_towers_killed',\n",
       " 'd5_teamfight_participation',\n",
       " 'd5_towers_killed',\n",
       " 'game_time',\n",
       " 'lobby_type',\n",
       " 'objectives_len',\n",
       " 'r1_teamfight_participation',\n",
       " 'r1_towers_killed',\n",
       " 'r2_teamfight_participation',\n",
       " 'r2_towers_killed',\n",
       " 'r3_teamfight_participation',\n",
       " 'r3_towers_killed',\n",
       " 'r4_teamfight_participation',\n",
       " 'r4_towers_killed',\n",
       " 'r5_teamfight_participation',\n",
       " 'r5_towers_killed'}"
      ]
     },
     "execution_count": 131,
     "metadata": {},
     "output_type": "execute_result"
    }
   ],
   "source": [
    "set(list(train_df.columns)) - set(list(prs_train.columns))"
   ]
  },
  {
   "cell_type": "code",
   "execution_count": 8,
   "metadata": {},
   "outputs": [],
   "source": [
    "## Preparing a submission\n",
    "\n",
    "def submit_file(y_pred, prefix='', path='.'):\n",
    "    df_submission = pd.DataFrame({'radiant_win_prob': y_pred}, \n",
    "                                     index=test_df.index)\n",
    "    submission_filename = '{}/{}_submission_{}.csv'.format(path, prefix,\n",
    "        datetime.datetime.now().strftime('%Y-%m-%d_%H-%M-%S'))\n",
    "    df_submission.to_csv(submission_filename)\n",
    "    \n",
    "    print('Submission saved to {}'.format(submission_filename))\n",
    "    return df_submission\n",
    "\n",
    "def check_logit(X, y, logit=None, train_size=train_size):\n",
    "    X = StandardScaler().fit_transform(X)[:train_size]\n",
    "    if not logit:\n",
    "        logit = LogisticRegression()\n",
    "\n",
    "    cv_score = cross_val_score(logit, X, y, scoring='roc_auc', cv=5, n_jobs=4)\n",
    "    return cv_score.mean(), cv_score.std()"
   ]
  },
  {
   "cell_type": "markdown",
   "metadata": {},
   "source": [
    "-----"
   ]
  },
  {
   "cell_type": "code",
   "execution_count": 148,
   "metadata": {},
   "outputs": [],
   "source": [
    "def read_matches(matches_file):\n",
    "    \n",
    "    MATCHES_COUNT = {\n",
    "        'test_matches.jsonl': 10000,\n",
    "        'train_matches.jsonl': 39675,\n",
    "    }\n",
    "    _, filename = os.path.split(matches_file)\n",
    "    total_matches = MATCHES_COUNT.get(filename)\n",
    "    \n",
    "    with open(matches_file) as fin:\n",
    "        for line in tqdm_notebook(fin, total=total_matches):\n",
    "            yield json.loads(line)"
   ]
  },
  {
   "cell_type": "code",
   "execution_count": 149,
   "metadata": {},
   "outputs": [],
   "source": [
    "import collections\n",
    "\n",
    "MATCH_FEATURES = [\n",
    "    ('game_time', lambda m: m['game_time']),\n",
    "    ('game_mode', lambda m: m['game_mode']),\n",
    "    ('lobby_type', lambda m: m['lobby_type']),\n",
    "    ('objectives_len', lambda m: len(m['objectives'])),\n",
    "    ('chat_len', lambda m: len(m['chat'])),\n",
    "]\n",
    "\n",
    "PLAYER_FIELDS = [\n",
    "    'hero_id',\n",
    "    \n",
    "    'kills',\n",
    "    'deaths',\n",
    "    'assists',\n",
    "    'denies',\n",
    "    \n",
    "    'gold',\n",
    "    'lh',\n",
    "    'xp',\n",
    "    'health',\n",
    "    'max_health',\n",
    "    'max_mana',\n",
    "    'level',\n",
    "\n",
    "    'x',\n",
    "    'y',\n",
    "    \n",
    "    'stuns',\n",
    "    'creeps_stacked',\n",
    "    'camps_stacked',\n",
    "    'rune_pickups',\n",
    "    'firstblood_claimed',\n",
    "    'teamfight_participation',\n",
    "    'towers_killed',\n",
    "    'roshans_killed',\n",
    "    'obs_placed',\n",
    "    'sen_placed',\n",
    "]\n",
    "\n",
    "def extract_features_csv(match):\n",
    "    row = [\n",
    "        ('match_id_hash', match['match_id_hash']),\n",
    "    ]\n",
    "    \n",
    "    for field, f in MATCH_FEATURES:\n",
    "        row.append((field, f(match)))\n",
    "        \n",
    "    for slot, player in enumerate(match['players']):\n",
    "        if slot < 5:\n",
    "            player_name = 'r%d' % (slot + 1)\n",
    "        else:\n",
    "            player_name = 'd%d' % (slot - 4)\n",
    "\n",
    "        for field in PLAYER_FIELDS:\n",
    "            column_name = '%s_%s' % (player_name, field)\n",
    "            row.append((column_name, player[field]))\n",
    "        row.append((f'{player_name}_ability_level', len(player['ability_upgrades'])))\n",
    "        row.append((f'{player_name}_max_hero_hit', player['max_hero_hit']['value']))\n",
    "        row.append((f'{player_name}_purchase_count', len(player['purchase_log'])))\n",
    "        row.append((f'{player_name}_count_ability_use', sum(player['ability_uses'].values())))\n",
    "        row.append((f'{player_name}_damage_dealt', sum(player['damage'].values())))\n",
    "        row.append((f'{player_name}_damage_received', sum(player['damage_taken'].values())))\n",
    "            \n",
    "    return collections.OrderedDict(row)\n",
    "    \n",
    "def extract_targets_csv(match, targets):\n",
    "    return collections.OrderedDict([('match_id_hash', match['match_id_hash'])] + [\n",
    "        (field, targets[field])\n",
    "        for field in ['game_time', 'radiant_win', 'duration', 'time_remaining', 'next_roshan_team']\n",
    "    ])"
   ]
  },
  {
   "cell_type": "code",
   "execution_count": 150,
   "metadata": {},
   "outputs": [
    {
     "data": {
      "application/vnd.jupyter.widget-view+json": {
       "model_id": "b0fda056c90440acaf9431636fc2e540",
       "version_major": 2,
       "version_minor": 0
      },
      "text/plain": [
       "HBox(children=(IntProgress(value=0, max=39675), HTML(value='')))"
      ]
     },
     "metadata": {},
     "output_type": "display_data"
    },
    {
     "name": "stdout",
     "output_type": "stream",
     "text": [
      "CPU times: user 1min 9s, sys: 2.12 s, total: 1min 11s\n",
      "Wall time: 1min 11s\n"
     ]
    }
   ],
   "source": [
    "%%time\n",
    "df_new_features = []\n",
    "df_new_targets = []\n",
    "\n",
    "for match in read_matches(os.path.join(PATH_TO_DATA, 'train_matches.jsonl')):\n",
    "    match_id_hash = match['match_id_hash']\n",
    "    features = extract_features_csv(match)\n",
    "    targets = extract_targets_csv(match, match['targets'])\n",
    "    \n",
    "    df_new_features.append(features)\n",
    "    df_new_targets.append(targets)\n",
    "    "
   ]
  },
  {
   "cell_type": "code",
   "execution_count": 151,
   "metadata": {},
   "outputs": [],
   "source": [
    "df_new_features = pd.DataFrame.from_records(df_new_features).set_index('match_id_hash')\n",
    "df_new_targets = pd.DataFrame.from_records(df_new_targets).set_index('match_id_hash')"
   ]
  },
  {
   "cell_type": "code",
   "execution_count": 152,
   "metadata": {},
   "outputs": [
    {
     "data": {
      "application/vnd.jupyter.widget-view+json": {
       "model_id": "0c6391e1d9b04030b4b609cdffc68b2c",
       "version_major": 2,
       "version_minor": 0
      },
      "text/plain": [
       "HBox(children=(IntProgress(value=0, max=10000), HTML(value='')))"
      ]
     },
     "metadata": {},
     "output_type": "display_data"
    }
   ],
   "source": [
    "test_new_features = []\n",
    "for match in read_matches(os.path.join(PATH_TO_DATA, 'test_matches.jsonl')):\n",
    "    match_id_hash = match['match_id_hash']\n",
    "    features = extract_features_csv(match)\n",
    "    \n",
    "    test_new_features.append(features)\n",
    "test_new_features = pd.DataFrame.from_records(test_new_features).set_index('match_id_hash')"
   ]
  },
  {
   "cell_type": "code",
   "execution_count": 182,
   "metadata": {},
   "outputs": [],
   "source": [
    "new_full_df = pd.concat([df_new_features, test_new_features],axis=0)"
   ]
  },
  {
   "cell_type": "code",
   "execution_count": 183,
   "metadata": {},
   "outputs": [
    {
     "data": {
      "text/plain": [
       "(49675, 305)"
      ]
     },
     "execution_count": 183,
     "metadata": {},
     "output_type": "execute_result"
    }
   ],
   "source": [
    "new_full_df.shape"
   ]
  },
  {
   "cell_type": "code",
   "execution_count": 184,
   "metadata": {},
   "outputs": [],
   "source": [
    "add_df_new_features = pd.DataFrame(index=new_full_df.index)\n",
    "additive_col = []\n",
    "pre_additive_col = ['kills', 'deaths', 'assists', 'denies', 'gold', 'xp', 'rune_pickups', \n",
    "                    'towers_killed', 'lh', 'max_mana', 'level', 'stuns', \n",
    "                    'creeps_stacked', 'camps_stacked', 'firstblood_claimed', 'teamfight_participation', \n",
    "                    'towers_killed', 'roshans_killed', 'ability_level', 'max_hero_hit', 'purchase_count',\n",
    "                    'max_health', 'r1_obs_placed', 'r1_sen_placed', 'count_ability_use', 'damage_dealt', \n",
    "                    'damage_received', \n",
    "                   ]\n",
    "for w in pre_additive_col:\n",
    "    cur_c = []\n",
    "    for c in new_full_df.columns:\n",
    "        if w in c:\n",
    "            cur_c.append(c)\n",
    "            additive_col.append(c)\n",
    "    for team in 'rd':\n",
    "#         print([c for c in cur_c if c.startswith(team)])\n",
    "        add_df_new_features[f'{team}_all_{w}'] = new_full_df[[c for c in cur_c if c.startswith(team)]].sum(axis=1)"
   ]
  },
  {
   "cell_type": "code",
   "execution_count": 185,
   "metadata": {},
   "outputs": [
    {
     "data": {
      "text/plain": [
       "(49675, 52)"
      ]
     },
     "execution_count": 185,
     "metadata": {},
     "output_type": "execute_result"
    }
   ],
   "source": [
    "add_df_new_features.shape"
   ]
  },
  {
   "cell_type": "code",
   "execution_count": 186,
   "metadata": {},
   "outputs": [
    {
     "data": {
      "text/plain": [
       "(0.8154912794390666, 0.0050760966484372436)"
      ]
     },
     "execution_count": 186,
     "metadata": {},
     "output_type": "execute_result"
    }
   ],
   "source": [
    "check_logit(add_df_new_features, y)"
   ]
  },
  {
   "cell_type": "code",
   "execution_count": null,
   "metadata": {},
   "outputs": [],
   "source": []
  },
  {
   "cell_type": "code",
   "execution_count": null,
   "metadata": {},
   "outputs": [],
   "source": []
  },
  {
   "cell_type": "code",
   "execution_count": null,
   "metadata": {},
   "outputs": [],
   "source": []
  },
  {
   "cell_type": "code",
   "execution_count": null,
   "metadata": {},
   "outputs": [],
   "source": []
  },
  {
   "cell_type": "markdown",
   "metadata": {
    "_uuid": "e805d116c02fb349617562accd0b784e199f30dd"
   },
   "source": [
    "We have ~ 40k games, each described by `match_id_hash` (game id) and 245 features. Also `game_time` is given - time (in secs) when the game was over. "
   ]
  },
  {
   "cell_type": "code",
   "execution_count": 9,
   "metadata": {
    "_uuid": "3b93c28dfd711f49e4f3a2374175f979547f4b67"
   },
   "outputs": [
    {
     "data": {
      "text/plain": [
       "(39675, 245)"
      ]
     },
     "execution_count": 9,
     "metadata": {},
     "output_type": "execute_result"
    }
   ],
   "source": [
    "train_df.shape"
   ]
  },
  {
   "cell_type": "code",
   "execution_count": 10,
   "metadata": {
    "_uuid": "c5de043331cca15e917bc20e4bb8e6bed75ddcc9"
   },
   "outputs": [
    {
     "data": {
      "text/html": [
       "<div>\n",
       "<style scoped>\n",
       "    .dataframe tbody tr th:only-of-type {\n",
       "        vertical-align: middle;\n",
       "    }\n",
       "\n",
       "    .dataframe tbody tr th {\n",
       "        vertical-align: top;\n",
       "    }\n",
       "\n",
       "    .dataframe thead th {\n",
       "        text-align: right;\n",
       "    }\n",
       "</style>\n",
       "<table border=\"1\" class=\"dataframe\">\n",
       "  <thead>\n",
       "    <tr style=\"text-align: right;\">\n",
       "      <th></th>\n",
       "      <th>game_time</th>\n",
       "      <th>game_mode</th>\n",
       "      <th>lobby_type</th>\n",
       "      <th>objectives_len</th>\n",
       "      <th>chat_len</th>\n",
       "      <th>r1_hero_id</th>\n",
       "      <th>r1_kills</th>\n",
       "      <th>r1_deaths</th>\n",
       "      <th>r1_assists</th>\n",
       "      <th>r1_denies</th>\n",
       "      <th>...</th>\n",
       "      <th>d5_stuns</th>\n",
       "      <th>d5_creeps_stacked</th>\n",
       "      <th>d5_camps_stacked</th>\n",
       "      <th>d5_rune_pickups</th>\n",
       "      <th>d5_firstblood_claimed</th>\n",
       "      <th>d5_teamfight_participation</th>\n",
       "      <th>d5_towers_killed</th>\n",
       "      <th>d5_roshans_killed</th>\n",
       "      <th>d5_obs_placed</th>\n",
       "      <th>d5_sen_placed</th>\n",
       "    </tr>\n",
       "    <tr>\n",
       "      <th>match_id_hash</th>\n",
       "      <th></th>\n",
       "      <th></th>\n",
       "      <th></th>\n",
       "      <th></th>\n",
       "      <th></th>\n",
       "      <th></th>\n",
       "      <th></th>\n",
       "      <th></th>\n",
       "      <th></th>\n",
       "      <th></th>\n",
       "      <th></th>\n",
       "      <th></th>\n",
       "      <th></th>\n",
       "      <th></th>\n",
       "      <th></th>\n",
       "      <th></th>\n",
       "      <th></th>\n",
       "      <th></th>\n",
       "      <th></th>\n",
       "      <th></th>\n",
       "      <th></th>\n",
       "    </tr>\n",
       "  </thead>\n",
       "  <tbody>\n",
       "    <tr>\n",
       "      <th>a400b8f29dece5f4d266f49f1ae2e98a</th>\n",
       "      <td>155</td>\n",
       "      <td>22</td>\n",
       "      <td>7</td>\n",
       "      <td>1</td>\n",
       "      <td>11</td>\n",
       "      <td>11</td>\n",
       "      <td>0</td>\n",
       "      <td>0</td>\n",
       "      <td>0</td>\n",
       "      <td>0</td>\n",
       "      <td>...</td>\n",
       "      <td>0.000000</td>\n",
       "      <td>0</td>\n",
       "      <td>0</td>\n",
       "      <td>0</td>\n",
       "      <td>0</td>\n",
       "      <td>0.00</td>\n",
       "      <td>0</td>\n",
       "      <td>0</td>\n",
       "      <td>0</td>\n",
       "      <td>0</td>\n",
       "    </tr>\n",
       "    <tr>\n",
       "      <th>b9c57c450ce74a2af79c9ce96fac144d</th>\n",
       "      <td>658</td>\n",
       "      <td>4</td>\n",
       "      <td>0</td>\n",
       "      <td>3</td>\n",
       "      <td>10</td>\n",
       "      <td>15</td>\n",
       "      <td>7</td>\n",
       "      <td>2</td>\n",
       "      <td>0</td>\n",
       "      <td>7</td>\n",
       "      <td>...</td>\n",
       "      <td>0.000000</td>\n",
       "      <td>0</td>\n",
       "      <td>0</td>\n",
       "      <td>0</td>\n",
       "      <td>0</td>\n",
       "      <td>0.00</td>\n",
       "      <td>0</td>\n",
       "      <td>0</td>\n",
       "      <td>0</td>\n",
       "      <td>0</td>\n",
       "    </tr>\n",
       "    <tr>\n",
       "      <th>6db558535151ea18ca70a6892197db41</th>\n",
       "      <td>21</td>\n",
       "      <td>23</td>\n",
       "      <td>0</td>\n",
       "      <td>0</td>\n",
       "      <td>0</td>\n",
       "      <td>101</td>\n",
       "      <td>0</td>\n",
       "      <td>0</td>\n",
       "      <td>0</td>\n",
       "      <td>0</td>\n",
       "      <td>...</td>\n",
       "      <td>0.000000</td>\n",
       "      <td>0</td>\n",
       "      <td>0</td>\n",
       "      <td>0</td>\n",
       "      <td>0</td>\n",
       "      <td>0.00</td>\n",
       "      <td>0</td>\n",
       "      <td>0</td>\n",
       "      <td>0</td>\n",
       "      <td>0</td>\n",
       "    </tr>\n",
       "    <tr>\n",
       "      <th>46a0ddce8f7ed2a8d9bd5edcbb925682</th>\n",
       "      <td>576</td>\n",
       "      <td>22</td>\n",
       "      <td>7</td>\n",
       "      <td>1</td>\n",
       "      <td>4</td>\n",
       "      <td>14</td>\n",
       "      <td>1</td>\n",
       "      <td>0</td>\n",
       "      <td>3</td>\n",
       "      <td>1</td>\n",
       "      <td>...</td>\n",
       "      <td>8.664527</td>\n",
       "      <td>3</td>\n",
       "      <td>1</td>\n",
       "      <td>3</td>\n",
       "      <td>0</td>\n",
       "      <td>0.00</td>\n",
       "      <td>0</td>\n",
       "      <td>0</td>\n",
       "      <td>2</td>\n",
       "      <td>0</td>\n",
       "    </tr>\n",
       "    <tr>\n",
       "      <th>b1b35ff97723d9b7ade1c9c3cf48f770</th>\n",
       "      <td>453</td>\n",
       "      <td>22</td>\n",
       "      <td>7</td>\n",
       "      <td>1</td>\n",
       "      <td>3</td>\n",
       "      <td>42</td>\n",
       "      <td>0</td>\n",
       "      <td>1</td>\n",
       "      <td>1</td>\n",
       "      <td>0</td>\n",
       "      <td>...</td>\n",
       "      <td>0.000000</td>\n",
       "      <td>2</td>\n",
       "      <td>1</td>\n",
       "      <td>2</td>\n",
       "      <td>0</td>\n",
       "      <td>0.25</td>\n",
       "      <td>0</td>\n",
       "      <td>0</td>\n",
       "      <td>0</td>\n",
       "      <td>0</td>\n",
       "    </tr>\n",
       "  </tbody>\n",
       "</table>\n",
       "<p>5 rows × 245 columns</p>\n",
       "</div>"
      ],
      "text/plain": [
       "                                  game_time  game_mode  lobby_type  \\\n",
       "match_id_hash                                                        \n",
       "a400b8f29dece5f4d266f49f1ae2e98a        155         22           7   \n",
       "b9c57c450ce74a2af79c9ce96fac144d        658          4           0   \n",
       "6db558535151ea18ca70a6892197db41         21         23           0   \n",
       "46a0ddce8f7ed2a8d9bd5edcbb925682        576         22           7   \n",
       "b1b35ff97723d9b7ade1c9c3cf48f770        453         22           7   \n",
       "\n",
       "                                  objectives_len  chat_len  r1_hero_id  \\\n",
       "match_id_hash                                                            \n",
       "a400b8f29dece5f4d266f49f1ae2e98a               1        11          11   \n",
       "b9c57c450ce74a2af79c9ce96fac144d               3        10          15   \n",
       "6db558535151ea18ca70a6892197db41               0         0         101   \n",
       "46a0ddce8f7ed2a8d9bd5edcbb925682               1         4          14   \n",
       "b1b35ff97723d9b7ade1c9c3cf48f770               1         3          42   \n",
       "\n",
       "                                  r1_kills  r1_deaths  r1_assists  r1_denies  \\\n",
       "match_id_hash                                                                  \n",
       "a400b8f29dece5f4d266f49f1ae2e98a         0          0           0          0   \n",
       "b9c57c450ce74a2af79c9ce96fac144d         7          2           0          7   \n",
       "6db558535151ea18ca70a6892197db41         0          0           0          0   \n",
       "46a0ddce8f7ed2a8d9bd5edcbb925682         1          0           3          1   \n",
       "b1b35ff97723d9b7ade1c9c3cf48f770         0          1           1          0   \n",
       "\n",
       "                                  ...  d5_stuns  d5_creeps_stacked  \\\n",
       "match_id_hash                     ...                                \n",
       "a400b8f29dece5f4d266f49f1ae2e98a  ...  0.000000                  0   \n",
       "b9c57c450ce74a2af79c9ce96fac144d  ...  0.000000                  0   \n",
       "6db558535151ea18ca70a6892197db41  ...  0.000000                  0   \n",
       "46a0ddce8f7ed2a8d9bd5edcbb925682  ...  8.664527                  3   \n",
       "b1b35ff97723d9b7ade1c9c3cf48f770  ...  0.000000                  2   \n",
       "\n",
       "                                  d5_camps_stacked  d5_rune_pickups  \\\n",
       "match_id_hash                                                         \n",
       "a400b8f29dece5f4d266f49f1ae2e98a                 0                0   \n",
       "b9c57c450ce74a2af79c9ce96fac144d                 0                0   \n",
       "6db558535151ea18ca70a6892197db41                 0                0   \n",
       "46a0ddce8f7ed2a8d9bd5edcbb925682                 1                3   \n",
       "b1b35ff97723d9b7ade1c9c3cf48f770                 1                2   \n",
       "\n",
       "                                  d5_firstblood_claimed  \\\n",
       "match_id_hash                                             \n",
       "a400b8f29dece5f4d266f49f1ae2e98a                      0   \n",
       "b9c57c450ce74a2af79c9ce96fac144d                      0   \n",
       "6db558535151ea18ca70a6892197db41                      0   \n",
       "46a0ddce8f7ed2a8d9bd5edcbb925682                      0   \n",
       "b1b35ff97723d9b7ade1c9c3cf48f770                      0   \n",
       "\n",
       "                                  d5_teamfight_participation  \\\n",
       "match_id_hash                                                  \n",
       "a400b8f29dece5f4d266f49f1ae2e98a                        0.00   \n",
       "b9c57c450ce74a2af79c9ce96fac144d                        0.00   \n",
       "6db558535151ea18ca70a6892197db41                        0.00   \n",
       "46a0ddce8f7ed2a8d9bd5edcbb925682                        0.00   \n",
       "b1b35ff97723d9b7ade1c9c3cf48f770                        0.25   \n",
       "\n",
       "                                  d5_towers_killed  d5_roshans_killed  \\\n",
       "match_id_hash                                                           \n",
       "a400b8f29dece5f4d266f49f1ae2e98a                 0                  0   \n",
       "b9c57c450ce74a2af79c9ce96fac144d                 0                  0   \n",
       "6db558535151ea18ca70a6892197db41                 0                  0   \n",
       "46a0ddce8f7ed2a8d9bd5edcbb925682                 0                  0   \n",
       "b1b35ff97723d9b7ade1c9c3cf48f770                 0                  0   \n",
       "\n",
       "                                  d5_obs_placed  d5_sen_placed  \n",
       "match_id_hash                                                   \n",
       "a400b8f29dece5f4d266f49f1ae2e98a              0              0  \n",
       "b9c57c450ce74a2af79c9ce96fac144d              0              0  \n",
       "6db558535151ea18ca70a6892197db41              0              0  \n",
       "46a0ddce8f7ed2a8d9bd5edcbb925682              2              0  \n",
       "b1b35ff97723d9b7ade1c9c3cf48f770              0              0  \n",
       "\n",
       "[5 rows x 245 columns]"
      ]
     },
     "execution_count": 10,
     "metadata": {},
     "output_type": "execute_result"
    }
   ],
   "source": [
    "train_df.head()"
   ]
  },
  {
   "cell_type": "code",
   "execution_count": 18,
   "metadata": {},
   "outputs": [
    {
     "data": {
      "text/plain": [
       "<matplotlib.axes._subplots.AxesSubplot at 0x7f16bf4e5a90>"
      ]
     },
     "execution_count": 18,
     "metadata": {},
     "output_type": "execute_result"
    },
    {
     "data": {
      "image/png": "[encoded data removed]",
      "text/plain": [
       "<Figure size 432x288 with 1 Axes>"
      ]
     },
     "metadata": {
      "needs_background": "light"
     },
     "output_type": "display_data"
    }
   ],
   "source": [
    "train_df.r1_gold.hist()"
   ]
  },
  {
   "cell_type": "markdown",
   "metadata": {
    "_uuid": "c25fbce112c73f64c0fd544c853084e5734de11d"
   },
   "source": [
    "## Training and evaluating a model"
   ]
  },
  {
   "cell_type": "markdown",
   "metadata": {
    "_uuid": "1062cc9f81b5ef07b03385994fd3d6bbe2ade8bd"
   },
   "source": [
    "#### Train the Random Forest model"
   ]
  },
  {
   "cell_type": "code",
   "execution_count": 127,
   "metadata": {
    "_uuid": "98687be065f843aa0dd201cb9d20b797584c38f2"
   },
   "outputs": [],
   "source": [
    "# %%time\n",
    "# model = RandomForestClassifier(n_estimators=100, n_jobs=4, random_state=17)\n",
    "# model.fit(X_train, y_train)\n",
    "# y_pred = model.predict_proba(X_valid)[:, 1]\n",
    "# valid_score = roc_auc_score(y_valid, y_pred)\n",
    "# print('Validation ROC-AUC score trees:', valid_score)\n",
    "# valid_accuracy = accuracy_score(y_valid, y_pred > 0.5)\n",
    "# print('Validation accuracy of P>0.5 classifier:', valid_accuracy)"
   ]
  },
  {
   "cell_type": "markdown",
   "metadata": {},
   "source": [
    "**And logit**"
   ]
  },
  {
   "cell_type": "code",
   "execution_count": 19,
   "metadata": {},
   "outputs": [
    {
     "name": "stdout",
     "output_type": "stream",
     "text": [
      "CPU times: user 250 ms, sys: 193 ms, total: 443 ms\n",
      "Wall time: 14.5 s\n"
     ]
    },
    {
     "data": {
      "text/plain": [
       "(0.8124758031774638, 0.004381519777706034)"
      ]
     },
     "execution_count": 19,
     "metadata": {},
     "output_type": "execute_result"
    }
   ],
   "source": [
    "%%time\n",
    "check_logit(train_df.values[:train_size], y)"
   ]
  },
  {
   "cell_type": "markdown",
   "metadata": {},
   "source": [
    "## Dummies of heroes"
   ]
  },
  {
   "cell_type": "code",
   "execution_count": 20,
   "metadata": {},
   "outputs": [],
   "source": [
    "hero_columns = [c for c in full_df.columns if '_hero_' in c]\n",
    "hero_df = full_df[hero_columns]"
   ]
  },
  {
   "cell_type": "code",
   "execution_count": 21,
   "metadata": {},
   "outputs": [],
   "source": [
    "for team in 'r', 'd':\n",
    "    players = [f'{team}{i}' for i in range(1, 6)]\n",
    "    part_hero_columns = [f'{player}_hero_id' for player in players]\n",
    "    d = pd.get_dummies(hero_df[part_hero_columns[0]])\n",
    "    for c in part_hero_columns[1:]:\n",
    "        d += pd.get_dummies(hero_df[c])\n",
    "    hero_df = pd.concat([hero_df, d.add_prefix(f'{team}_hero_')], axis=1)\n",
    "    hero_df.drop(columns=part_hero_columns, inplace=True)\n",
    "    \n",
    "X = hero_df.iloc[:train_size, :]"
   ]
  },
  {
   "cell_type": "code",
   "execution_count": 22,
   "metadata": {},
   "outputs": [
    {
     "data": {
      "text/plain": [
       "(39675, 230)"
      ]
     },
     "execution_count": 22,
     "metadata": {},
     "output_type": "execute_result"
    }
   ],
   "source": [
    "X.shape"
   ]
  },
  {
   "cell_type": "code",
   "execution_count": 23,
   "metadata": {},
   "outputs": [
    {
     "data": {
      "text/plain": [
       "(0.6050825241561846, 0.008542256139390678)"
      ]
     },
     "execution_count": 23,
     "metadata": {},
     "output_type": "execute_result"
    }
   ],
   "source": [
    "check_logit(X, y) # on only hero features"
   ]
  },
  {
   "cell_type": "code",
   "execution_count": 24,
   "metadata": {},
   "outputs": [
    {
     "data": {
      "text/plain": [
       "(49675, 465)"
      ]
     },
     "execution_count": 24,
     "metadata": {},
     "output_type": "execute_result"
    }
   ],
   "source": [
    "mod_full_df = pd.concat([full_df.drop(hero_columns, axis=1), hero_df], axis=1)\n",
    "mod_full_df.shape"
   ]
  },
  {
   "cell_type": "code",
   "execution_count": 25,
   "metadata": {},
   "outputs": [
    {
     "name": "stdout",
     "output_type": "stream",
     "text": [
      "(0.8315638402951275, 0.001821867590201962)\n",
      "CPU times: user 807 ms, sys: 526 ms, total: 1.33 s\n",
      "Wall time: 21.6 s\n"
     ]
    }
   ],
   "source": [
    "%%time\n",
    "print(check_logit(mod_full_df.values[:train_size], y))"
   ]
  },
  {
   "cell_type": "code",
   "execution_count": null,
   "metadata": {},
   "outputs": [],
   "source": []
  },
  {
   "cell_type": "code",
   "execution_count": null,
   "metadata": {},
   "outputs": [],
   "source": []
  },
  {
   "cell_type": "code",
   "execution_count": 26,
   "metadata": {},
   "outputs": [],
   "source": [
    "location_col = [c for c in full_df.columns if c.endswith('_x') or c.endswith('_y')]\n",
    "location_df = full_df[location_col]\n",
    "clus_location_df = location_df // 10"
   ]
  },
  {
   "cell_type": "code",
   "execution_count": 27,
   "metadata": {},
   "outputs": [
    {
     "data": {
      "image/png": "[encoded data removed]",
      "text/plain": [
       "<Figure size 1080x1080 with 1 Axes>"
      ]
     },
     "metadata": {
      "needs_background": "light"
     },
     "output_type": "display_data"
    }
   ],
   "source": [
    "cl_id = 10\n",
    "plt.figure(figsize=(15,15))\n",
    "for COM in 'rd':\n",
    "    for i in range(1,6):\n",
    "        plt.scatter(location_df[f'{COM}{i}_x'], location_df[f'{COM}{i}_y'], alpha=0.3)\n",
    "        plt.scatter(location_df[f'{COM}{i}_x'] // cl_id * cl_id, \n",
    "                    location_df[f'{COM}{i}_y'] // cl_id * cl_id, alpha=0.3)\n",
    "        break\n",
    "    break"
   ]
  },
  {
   "cell_type": "code",
   "execution_count": 28,
   "metadata": {},
   "outputs": [],
   "source": [
    "add_fea_full_df = pd.DataFrame(index=full_df.index)\n",
    "additive_col = []\n",
    "pre_additive_col = ['kills', 'deaths', 'assists', 'denies', 'gold', 'xp', 'rune_pickups', \n",
    "                    'towers_killed', 'lh', 'max_mana', 'level', 'stuns', \n",
    "                    'creeps_stacked', 'camps_stacked', 'firstblood_claimed', 'teamfight_participation', \n",
    "                    'towers_killed', 'roshans_killed', \n",
    "                    'max_health', 'r1_obs_placed', 'r1_sen_placed',\n",
    "                   ]\n",
    "for w in pre_additive_col:\n",
    "    cur_c = []\n",
    "    for c in full_df.columns:\n",
    "        if w in c:\n",
    "            cur_c.append(c)\n",
    "            additive_col.append(c)\n",
    "    for team in 'rd':\n",
    "#         print([c for c in cur_c if c.startswith(team)])\n",
    "        add_fea_full_df[f'{team}_all_{w}'] = full_df[[c for c in cur_c if c.startswith(team)]].sum(axis=1)"
   ]
  },
  {
   "cell_type": "code",
   "execution_count": 29,
   "metadata": {},
   "outputs": [],
   "source": [
    "for COM in 'rd':\n",
    "    add_fea_full_df[f'{COM}_all_xped_gold'] = add_fea_full_df[f'{COM}_all_gold'] / 10000 * add_fea_full_df[f'{COM}_all_xp'] / 7000\n",
    "\n",
    "add_fea_full_df = add_fea_full_df.drop(['r_all_kills', 'd_all_kills', \n",
    "#                                         'd_all_gold', 'r_all_gold', \n",
    "                                        'r_all_xp', 'd_all_xp', \n",
    "#                                         'd_all_level'\n",
    "                                       ], axis=1,)"
   ]
  },
  {
   "cell_type": "code",
   "execution_count": 30,
   "metadata": {},
   "outputs": [
    {
     "data": {
      "text/plain": [
       "(0.8147017831528036, 0.004880740926150591)"
      ]
     },
     "execution_count": 30,
     "metadata": {},
     "output_type": "execute_result"
    }
   ],
   "source": [
    "check_logit(add_fea_full_df, y)"
   ]
  },
  {
   "cell_type": "code",
   "execution_count": 31,
   "metadata": {},
   "outputs": [
    {
     "data": {
      "text/plain": [
       "(0.8311817515656414, 0.0019300994227860223)"
      ]
     },
     "execution_count": 31,
     "metadata": {},
     "output_type": "execute_result"
    }
   ],
   "source": [
    "check_logit(pd.concat([full_df[additive_col + location_col], hero_df], axis=1), y)"
   ]
  },
  {
   "cell_type": "code",
   "execution_count": 415,
   "metadata": {},
   "outputs": [
    {
     "data": {
      "text/plain": [
       "(0.8351941374924292, 0.001704526395633516)"
      ]
     },
     "execution_count": 415,
     "metadata": {},
     "output_type": "execute_result"
    }
   ],
   "source": [
    "check_logit(pd.concat([hero_df, add_fea_full_df, clus_location_df], axis=1), y, )"
   ]
  },
  {
   "cell_type": "code",
   "execution_count": 379,
   "metadata": {
    "collapsed": true
   },
   "outputs": [
    {
     "data": {
      "text/plain": [
       "<matplotlib.axes._subplots.AxesSubplot at 0x7f0ecff5a400>"
      ]
     },
     "execution_count": 379,
     "metadata": {},
     "output_type": "execute_result"
    },
    {
     "data": {
      "image/png": "[encoded data removed]",
      "text/plain": [
       "<Figure size 1296x1152 with 2 Axes>"
      ]
     },
     "metadata": {
      "needs_background": "light"
     },
     "output_type": "display_data"
    }
   ],
   "source": [
    "# Compute the correlation matrix\n",
    "corr = add_fea_full_df.corr()\n",
    "\n",
    "# Generate a mask for the upper triangle\n",
    "mask = np.zeros_like(corr, dtype=np.bool)\n",
    "mask[np.triu_indices_from(mask)] = True\n",
    "\n",
    "# Set up the matplotlib figure\n",
    "f, ax = plt.subplots(figsize=(18,16))\n",
    "\n",
    "# Generate a custom diverging colormap\n",
    "cmap = sns.diverging_palette(220, 10, as_cmap=True)\n",
    "\n",
    "# Draw the heatmap with the mask and correct aspect ratio\n",
    "sns.heatmap(corr, mask=mask, cmap=cmap, center=0,\n",
    "            square=True, linewidths=.5, cbar_kws={\"shrink\": .5}, annot=True, )\n",
    "# plt.savefig('corr_map.png')"
   ]
  },
  {
   "cell_type": "code",
   "execution_count": 32,
   "metadata": {},
   "outputs": [
    {
     "data": {
      "text/plain": [
       "(49675, 38)"
      ]
     },
     "execution_count": 32,
     "metadata": {},
     "output_type": "execute_result"
    }
   ],
   "source": [
    "add_fea_full_df.shape"
   ]
  },
  {
   "cell_type": "code",
   "execution_count": 218,
   "metadata": {
    "collapsed": true
   },
   "outputs": [
    {
     "data": {
      "text/plain": [
       "['r1_hero_id',\n",
       " 'r1_kills',\n",
       " 'r1_deaths',\n",
       " 'r1_assists',\n",
       " 'r1_denies',\n",
       " 'r1_gold',\n",
       " 'r1_lh',\n",
       " 'r1_xp',\n",
       " 'r1_health',\n",
       " 'r1_max_health',\n",
       " 'r1_max_mana',\n",
       " 'r1_level',\n",
       " 'r1_x',\n",
       " 'r1_y',\n",
       " 'r1_stuns',\n",
       " 'r1_creeps_stacked',\n",
       " 'r1_camps_stacked',\n",
       " 'r1_rune_pickups',\n",
       " 'r1_firstblood_claimed',\n",
       " 'r1_teamfight_participation',\n",
       " 'r1_towers_killed',\n",
       " 'r1_roshans_killed',\n",
       " 'r1_obs_placed',\n",
       " 'r1_sen_placed']"
      ]
     },
     "execution_count": 218,
     "metadata": {},
     "output_type": "execute_result"
    }
   ],
   "source": [
    "[c for c in full_df.columns if 'r1_' in c]"
   ]
  },
  {
   "cell_type": "code",
   "execution_count": 37,
   "metadata": {},
   "outputs": [
    {
     "name": "stdout",
     "output_type": "stream",
     "text": [
      "game_time\n",
      "game_mode\n",
      "lobby_type\n",
      "objectives_len\n",
      "chat_len\n"
     ]
    }
   ],
   "source": [
    "for col in full_df.columns:\n",
    "    if not (col.startswith('r') or col.startswith('d')):\n",
    "        print(col)"
   ]
  },
  {
   "cell_type": "code",
   "execution_count": 40,
   "metadata": {},
   "outputs": [
    {
     "data": {
      "text/html": [
       "<div>\n",
       "<style scoped>\n",
       "    .dataframe tbody tr th:only-of-type {\n",
       "        vertical-align: middle;\n",
       "    }\n",
       "\n",
       "    .dataframe tbody tr th {\n",
       "        vertical-align: top;\n",
       "    }\n",
       "\n",
       "    .dataframe thead th {\n",
       "        text-align: right;\n",
       "    }\n",
       "</style>\n",
       "<table border=\"1\" class=\"dataframe\">\n",
       "  <thead>\n",
       "    <tr style=\"text-align: right;\">\n",
       "      <th></th>\n",
       "      <th>game_time</th>\n",
       "      <th>game_mode</th>\n",
       "      <th>lobby_type</th>\n",
       "      <th>objectives_len</th>\n",
       "      <th>chat_len</th>\n",
       "      <th>r1_hero_id</th>\n",
       "      <th>r1_kills</th>\n",
       "      <th>r1_deaths</th>\n",
       "      <th>r1_assists</th>\n",
       "      <th>r1_denies</th>\n",
       "      <th>...</th>\n",
       "      <th>d5_stuns</th>\n",
       "      <th>d5_creeps_stacked</th>\n",
       "      <th>d5_camps_stacked</th>\n",
       "      <th>d5_rune_pickups</th>\n",
       "      <th>d5_firstblood_claimed</th>\n",
       "      <th>d5_teamfight_participation</th>\n",
       "      <th>d5_towers_killed</th>\n",
       "      <th>d5_roshans_killed</th>\n",
       "      <th>d5_obs_placed</th>\n",
       "      <th>d5_sen_placed</th>\n",
       "    </tr>\n",
       "    <tr>\n",
       "      <th>match_id_hash</th>\n",
       "      <th></th>\n",
       "      <th></th>\n",
       "      <th></th>\n",
       "      <th></th>\n",
       "      <th></th>\n",
       "      <th></th>\n",
       "      <th></th>\n",
       "      <th></th>\n",
       "      <th></th>\n",
       "      <th></th>\n",
       "      <th></th>\n",
       "      <th></th>\n",
       "      <th></th>\n",
       "      <th></th>\n",
       "      <th></th>\n",
       "      <th></th>\n",
       "      <th></th>\n",
       "      <th></th>\n",
       "      <th></th>\n",
       "      <th></th>\n",
       "      <th></th>\n",
       "    </tr>\n",
       "  </thead>\n",
       "  <tbody>\n",
       "    <tr>\n",
       "      <th>a400b8f29dece5f4d266f49f1ae2e98a</th>\n",
       "      <td>155</td>\n",
       "      <td>22</td>\n",
       "      <td>7</td>\n",
       "      <td>1</td>\n",
       "      <td>11</td>\n",
       "      <td>11</td>\n",
       "      <td>0</td>\n",
       "      <td>0</td>\n",
       "      <td>0</td>\n",
       "      <td>0</td>\n",
       "      <td>...</td>\n",
       "      <td>0.000000</td>\n",
       "      <td>0</td>\n",
       "      <td>0</td>\n",
       "      <td>0</td>\n",
       "      <td>0</td>\n",
       "      <td>0.00</td>\n",
       "      <td>0</td>\n",
       "      <td>0</td>\n",
       "      <td>0</td>\n",
       "      <td>0</td>\n",
       "    </tr>\n",
       "    <tr>\n",
       "      <th>b9c57c450ce74a2af79c9ce96fac144d</th>\n",
       "      <td>658</td>\n",
       "      <td>4</td>\n",
       "      <td>0</td>\n",
       "      <td>3</td>\n",
       "      <td>10</td>\n",
       "      <td>15</td>\n",
       "      <td>7</td>\n",
       "      <td>2</td>\n",
       "      <td>0</td>\n",
       "      <td>7</td>\n",
       "      <td>...</td>\n",
       "      <td>0.000000</td>\n",
       "      <td>0</td>\n",
       "      <td>0</td>\n",
       "      <td>0</td>\n",
       "      <td>0</td>\n",
       "      <td>0.00</td>\n",
       "      <td>0</td>\n",
       "      <td>0</td>\n",
       "      <td>0</td>\n",
       "      <td>0</td>\n",
       "    </tr>\n",
       "    <tr>\n",
       "      <th>6db558535151ea18ca70a6892197db41</th>\n",
       "      <td>21</td>\n",
       "      <td>23</td>\n",
       "      <td>0</td>\n",
       "      <td>0</td>\n",
       "      <td>0</td>\n",
       "      <td>101</td>\n",
       "      <td>0</td>\n",
       "      <td>0</td>\n",
       "      <td>0</td>\n",
       "      <td>0</td>\n",
       "      <td>...</td>\n",
       "      <td>0.000000</td>\n",
       "      <td>0</td>\n",
       "      <td>0</td>\n",
       "      <td>0</td>\n",
       "      <td>0</td>\n",
       "      <td>0.00</td>\n",
       "      <td>0</td>\n",
       "      <td>0</td>\n",
       "      <td>0</td>\n",
       "      <td>0</td>\n",
       "    </tr>\n",
       "    <tr>\n",
       "      <th>46a0ddce8f7ed2a8d9bd5edcbb925682</th>\n",
       "      <td>576</td>\n",
       "      <td>22</td>\n",
       "      <td>7</td>\n",
       "      <td>1</td>\n",
       "      <td>4</td>\n",
       "      <td>14</td>\n",
       "      <td>1</td>\n",
       "      <td>0</td>\n",
       "      <td>3</td>\n",
       "      <td>1</td>\n",
       "      <td>...</td>\n",
       "      <td>8.664527</td>\n",
       "      <td>3</td>\n",
       "      <td>1</td>\n",
       "      <td>3</td>\n",
       "      <td>0</td>\n",
       "      <td>0.00</td>\n",
       "      <td>0</td>\n",
       "      <td>0</td>\n",
       "      <td>2</td>\n",
       "      <td>0</td>\n",
       "    </tr>\n",
       "    <tr>\n",
       "      <th>b1b35ff97723d9b7ade1c9c3cf48f770</th>\n",
       "      <td>453</td>\n",
       "      <td>22</td>\n",
       "      <td>7</td>\n",
       "      <td>1</td>\n",
       "      <td>3</td>\n",
       "      <td>42</td>\n",
       "      <td>0</td>\n",
       "      <td>1</td>\n",
       "      <td>1</td>\n",
       "      <td>0</td>\n",
       "      <td>...</td>\n",
       "      <td>0.000000</td>\n",
       "      <td>2</td>\n",
       "      <td>1</td>\n",
       "      <td>2</td>\n",
       "      <td>0</td>\n",
       "      <td>0.25</td>\n",
       "      <td>0</td>\n",
       "      <td>0</td>\n",
       "      <td>0</td>\n",
       "      <td>0</td>\n",
       "    </tr>\n",
       "  </tbody>\n",
       "</table>\n",
       "<p>5 rows × 245 columns</p>\n",
       "</div>"
      ],
      "text/plain": [
       "                                  game_time  game_mode  lobby_type  \\\n",
       "match_id_hash                                                        \n",
       "a400b8f29dece5f4d266f49f1ae2e98a        155         22           7   \n",
       "b9c57c450ce74a2af79c9ce96fac144d        658          4           0   \n",
       "6db558535151ea18ca70a6892197db41         21         23           0   \n",
       "46a0ddce8f7ed2a8d9bd5edcbb925682        576         22           7   \n",
       "b1b35ff97723d9b7ade1c9c3cf48f770        453         22           7   \n",
       "\n",
       "                                  objectives_len  chat_len  r1_hero_id  \\\n",
       "match_id_hash                                                            \n",
       "a400b8f29dece5f4d266f49f1ae2e98a               1        11          11   \n",
       "b9c57c450ce74a2af79c9ce96fac144d               3        10          15   \n",
       "6db558535151ea18ca70a6892197db41               0         0         101   \n",
       "46a0ddce8f7ed2a8d9bd5edcbb925682               1         4          14   \n",
       "b1b35ff97723d9b7ade1c9c3cf48f770               1         3          42   \n",
       "\n",
       "                                  r1_kills  r1_deaths  r1_assists  r1_denies  \\\n",
       "match_id_hash                                                                  \n",
       "a400b8f29dece5f4d266f49f1ae2e98a         0          0           0          0   \n",
       "b9c57c450ce74a2af79c9ce96fac144d         7          2           0          7   \n",
       "6db558535151ea18ca70a6892197db41         0          0           0          0   \n",
       "46a0ddce8f7ed2a8d9bd5edcbb925682         1          0           3          1   \n",
       "b1b35ff97723d9b7ade1c9c3cf48f770         0          1           1          0   \n",
       "\n",
       "                                  ...  d5_stuns  d5_creeps_stacked  \\\n",
       "match_id_hash                     ...                                \n",
       "a400b8f29dece5f4d266f49f1ae2e98a  ...  0.000000                  0   \n",
       "b9c57c450ce74a2af79c9ce96fac144d  ...  0.000000                  0   \n",
       "6db558535151ea18ca70a6892197db41  ...  0.000000                  0   \n",
       "46a0ddce8f7ed2a8d9bd5edcbb925682  ...  8.664527                  3   \n",
       "b1b35ff97723d9b7ade1c9c3cf48f770  ...  0.000000                  2   \n",
       "\n",
       "                                  d5_camps_stacked  d5_rune_pickups  \\\n",
       "match_id_hash                                                         \n",
       "a400b8f29dece5f4d266f49f1ae2e98a                 0                0   \n",
       "b9c57c450ce74a2af79c9ce96fac144d                 0                0   \n",
       "6db558535151ea18ca70a6892197db41                 0                0   \n",
       "46a0ddce8f7ed2a8d9bd5edcbb925682                 1                3   \n",
       "b1b35ff97723d9b7ade1c9c3cf48f770                 1                2   \n",
       "\n",
       "                                  d5_firstblood_claimed  \\\n",
       "match_id_hash                                             \n",
       "a400b8f29dece5f4d266f49f1ae2e98a                      0   \n",
       "b9c57c450ce74a2af79c9ce96fac144d                      0   \n",
       "6db558535151ea18ca70a6892197db41                      0   \n",
       "46a0ddce8f7ed2a8d9bd5edcbb925682                      0   \n",
       "b1b35ff97723d9b7ade1c9c3cf48f770                      0   \n",
       "\n",
       "                                  d5_teamfight_participation  \\\n",
       "match_id_hash                                                  \n",
       "a400b8f29dece5f4d266f49f1ae2e98a                        0.00   \n",
       "b9c57c450ce74a2af79c9ce96fac144d                        0.00   \n",
       "6db558535151ea18ca70a6892197db41                        0.00   \n",
       "46a0ddce8f7ed2a8d9bd5edcbb925682                        0.00   \n",
       "b1b35ff97723d9b7ade1c9c3cf48f770                        0.25   \n",
       "\n",
       "                                  d5_towers_killed  d5_roshans_killed  \\\n",
       "match_id_hash                                                           \n",
       "a400b8f29dece5f4d266f49f1ae2e98a                 0                  0   \n",
       "b9c57c450ce74a2af79c9ce96fac144d                 0                  0   \n",
       "6db558535151ea18ca70a6892197db41                 0                  0   \n",
       "46a0ddce8f7ed2a8d9bd5edcbb925682                 0                  0   \n",
       "b1b35ff97723d9b7ade1c9c3cf48f770                 0                  0   \n",
       "\n",
       "                                  d5_obs_placed  d5_sen_placed  \n",
       "match_id_hash                                                   \n",
       "a400b8f29dece5f4d266f49f1ae2e98a              0              0  \n",
       "b9c57c450ce74a2af79c9ce96fac144d              0              0  \n",
       "6db558535151ea18ca70a6892197db41              0              0  \n",
       "46a0ddce8f7ed2a8d9bd5edcbb925682              2              0  \n",
       "b1b35ff97723d9b7ade1c9c3cf48f770              0              0  \n",
       "\n",
       "[5 rows x 245 columns]"
      ]
     },
     "execution_count": 40,
     "metadata": {},
     "output_type": "execute_result"
    }
   ],
   "source": [
    "full_df.head()"
   ]
  },
  {
   "cell_type": "code",
   "execution_count": 94,
   "metadata": {},
   "outputs": [],
   "source": [
    "lost_col = ['game_time', ]\n",
    "lost_df = full_df[lost_col]\n",
    "# lost_df.lobby_type.replace(7, 1, inplace=True)"
   ]
  },
  {
   "cell_type": "code",
   "execution_count": 188,
   "metadata": {},
   "outputs": [],
   "source": [
    "# my_full_df = pd.concat([hero_df, add_fea_full_df, clus_location_df, lost_df], axis=1)\n",
    "\n",
    "my_full_df = pd.concat([hero_df, add_df_new_features, clus_location_df, lost_df], axis=1)"
   ]
  },
  {
   "cell_type": "code",
   "execution_count": 196,
   "metadata": {},
   "outputs": [
    {
     "data": {
      "text/plain": [
       "(0.8344095534538157, 0.0022364521570745156)"
      ]
     },
     "execution_count": 196,
     "metadata": {},
     "output_type": "execute_result"
    }
   ],
   "source": [
    "check_logit(my_full_df.values, y, )"
   ]
  },
  {
   "cell_type": "code",
   "execution_count": 195,
   "metadata": {},
   "outputs": [
    {
     "data": {
      "text/plain": [
       "array([49675])"
      ]
     },
     "execution_count": 195,
     "metadata": {},
     "output_type": "execute_result"
    }
   ],
   "source": [
    "my_full_df.count().unique()"
   ]
  },
  {
   "cell_type": "code",
   "execution_count": null,
   "metadata": {},
   "outputs": [],
   "source": []
  },
  {
   "cell_type": "code",
   "execution_count": 197,
   "metadata": {},
   "outputs": [
    {
     "name": "stdout",
     "output_type": "stream",
     "text": [
      "Fold 0\n",
      "Training until validation scores don't improve for 2000 rounds.\n",
      "[1000]\ttraining's auc: 0.829429\tvalid_1's auc: 0.805951\n",
      "[2000]\ttraining's auc: 0.851551\tvalid_1's auc: 0.819002\n",
      "[3000]\ttraining's auc: 0.867104\tvalid_1's auc: 0.825929\n",
      "[4000]\ttraining's auc: 0.878602\tvalid_1's auc: 0.829688\n",
      "[5000]\ttraining's auc: 0.887967\tvalid_1's auc: 0.831853\n",
      "[6000]\ttraining's auc: 0.89603\tvalid_1's auc: 0.832956\n",
      "[7000]\ttraining's auc: 0.903313\tvalid_1's auc: 0.833249\n",
      "[8000]\ttraining's auc: 0.909938\tvalid_1's auc: 0.833524\n",
      "[9000]\ttraining's auc: 0.915616\tvalid_1's auc: 0.833505\n",
      "[10000]\ttraining's auc: 0.921191\tvalid_1's auc: 0.833471\n",
      "Early stopping, best iteration is:\n",
      "[8447]\ttraining's auc: 0.912572\tvalid_1's auc: 0.833699\n",
      "Fold 1\n",
      "Training until validation scores don't improve for 2000 rounds.\n",
      "[1000]\ttraining's auc: 0.830784\tvalid_1's auc: 0.801401\n",
      "[2000]\ttraining's auc: 0.853417\tvalid_1's auc: 0.814114\n",
      "[3000]\ttraining's auc: 0.868315\tvalid_1's auc: 0.820012\n",
      "[4000]\ttraining's auc: 0.879915\tvalid_1's auc: 0.822794\n",
      "[5000]\ttraining's auc: 0.889345\tvalid_1's auc: 0.82419\n",
      "[6000]\ttraining's auc: 0.897327\tvalid_1's auc: 0.825047\n",
      "[7000]\ttraining's auc: 0.904421\tvalid_1's auc: 0.825534\n",
      "[8000]\ttraining's auc: 0.911013\tvalid_1's auc: 0.825958\n",
      "[9000]\ttraining's auc: 0.916859\tvalid_1's auc: 0.825988\n",
      "[10000]\ttraining's auc: 0.922197\tvalid_1's auc: 0.826111\n",
      "Early stopping, best iteration is:\n",
      "[8306]\ttraining's auc: 0.91286\tvalid_1's auc: 0.826202\n",
      "Fold 2\n",
      "Training until validation scores don't improve for 2000 rounds.\n",
      "[1000]\ttraining's auc: 0.828407\tvalid_1's auc: 0.813081\n",
      "[2000]\ttraining's auc: 0.851219\tvalid_1's auc: 0.825931\n",
      "[3000]\ttraining's auc: 0.866448\tvalid_1's auc: 0.831382\n",
      "[4000]\ttraining's auc: 0.878066\tvalid_1's auc: 0.834642\n",
      "[5000]\ttraining's auc: 0.887662\tvalid_1's auc: 0.836196\n",
      "[6000]\ttraining's auc: 0.896038\tvalid_1's auc: 0.83687\n",
      "[7000]\ttraining's auc: 0.903237\tvalid_1's auc: 0.837423\n",
      "[8000]\ttraining's auc: 0.909998\tvalid_1's auc: 0.837732\n",
      "[9000]\ttraining's auc: 0.915854\tvalid_1's auc: 0.837607\n",
      "Early stopping, best iteration is:\n",
      "[7963]\ttraining's auc: 0.909742\tvalid_1's auc: 0.837791\n",
      "Fold 3\n",
      "Training until validation scores don't improve for 2000 rounds.\n",
      "[1000]\ttraining's auc: 0.829274\tvalid_1's auc: 0.806096\n",
      "[2000]\ttraining's auc: 0.851624\tvalid_1's auc: 0.819795\n",
      "[3000]\ttraining's auc: 0.86682\tvalid_1's auc: 0.826005\n",
      "[4000]\ttraining's auc: 0.878612\tvalid_1's auc: 0.828963\n",
      "[5000]\ttraining's auc: 0.888077\tvalid_1's auc: 0.830439\n",
      "[6000]\ttraining's auc: 0.896074\tvalid_1's auc: 0.831454\n",
      "[7000]\ttraining's auc: 0.903116\tvalid_1's auc: 0.831612\n",
      "[8000]\ttraining's auc: 0.909739\tvalid_1's auc: 0.831968\n",
      "[9000]\ttraining's auc: 0.915701\tvalid_1's auc: 0.83192\n",
      "[10000]\ttraining's auc: 0.921088\tvalid_1's auc: 0.831751\n",
      "Early stopping, best iteration is:\n",
      "[8738]\ttraining's auc: 0.91425\tvalid_1's auc: 0.832076\n",
      "Fold 4\n",
      "Training until validation scores don't improve for 2000 rounds.\n",
      "[1000]\ttraining's auc: 0.828284\tvalid_1's auc: 0.813541\n",
      "[2000]\ttraining's auc: 0.851172\tvalid_1's auc: 0.824728\n",
      "[3000]\ttraining's auc: 0.86666\tvalid_1's auc: 0.830076\n",
      "[4000]\ttraining's auc: 0.878428\tvalid_1's auc: 0.833054\n",
      "[5000]\ttraining's auc: 0.887959\tvalid_1's auc: 0.834761\n",
      "[6000]\ttraining's auc: 0.895791\tvalid_1's auc: 0.8355\n",
      "[7000]\ttraining's auc: 0.902919\tvalid_1's auc: 0.83565\n",
      "[8000]\ttraining's auc: 0.909616\tvalid_1's auc: 0.835783\n",
      "[9000]\ttraining's auc: 0.915718\tvalid_1's auc: 0.835811\n",
      "[10000]\ttraining's auc: 0.921116\tvalid_1's auc: 0.835561\n",
      "Early stopping, best iteration is:\n",
      "[8794]\ttraining's auc: 0.914495\tvalid_1's auc: 0.83597\n",
      "CV score: 0.83312 \n"
     ]
    }
   ],
   "source": [
    "# param = {'num_leaves': 200, \n",
    "#          'metric': 'roc_auc', \n",
    "#          'verbosity' : 0, \n",
    "#          'max_depth': -1, \n",
    "#          'learning_rate': 0.01, \n",
    "#          'num_threads': 4, \n",
    "#          'reg_alpha': 0.01, \n",
    "#          'reg_lambda': 3\n",
    "# }\n",
    "param = {\n",
    "    \"objective\" : \"binary\",\n",
    "    \"metric\" : 'auc',\n",
    "#      'boost' : \"gbdt\",\n",
    "    'boost_from_average' : \"false\",\n",
    "#     'tree_learner': \"serial\",\n",
    "    \"max_depth\" : -1,\n",
    "    \"num_leaves\" : 13,\n",
    "    \"learning_rate\" : 0.01,\n",
    "    \"bagging_fraction\" : 0.4,\n",
    "     'bagging_freq' : 5,\n",
    "     'min_data_in_leaf' : 80,\n",
    "     'min_sum_hessian_in_leaf' : 10.0,\n",
    "    \"feature_fraction\" : 0.05,\n",
    "#     \"lambda_l1\" : 5,\n",
    "#     \"lambda_l2\" : 5,\n",
    "    \"bagging_seed\" : 42,\n",
    "    \"verbosity\" : 1,\n",
    "    \"random_state\": 4950,\n",
    "     'num_threads': 4,\n",
    "}\n",
    "\n",
    "df_train, df_test = my_full_df.iloc[:train_size], my_full_df.iloc[train_size:]\n",
    "target = train_y\n",
    "folds = StratifiedKFold(n_splits=5, shuffle=True, random_state=31415)\n",
    "oof = np.zeros(len(df_train))\n",
    "predictions = np.zeros(len(df_test))\n",
    "for fold_, (trn_idx, val_idx) in enumerate(folds.split(df_train.values, target.values)):\n",
    "    print(\"Fold {}\".format(fold_))\n",
    "    trn_data = lgb.Dataset(df_train.iloc[trn_idx],target.iloc[trn_idx])\n",
    "    val_data = lgb.Dataset(df_train.iloc[val_idx], label=target.iloc[val_idx])\n",
    "    lgb_model = lgb.train(param, trn_data, 40000, \n",
    "                          valid_sets = [trn_data, val_data], \n",
    "                          early_stopping_rounds=2000, \n",
    "                          verbose_eval=1000)\n",
    "#                          categorical_feature= category_features )          \n",
    "    oof[val_idx] = lgb_model.predict(df_train.iloc[val_idx], num_iteration = lgb_model.best_iteration)\n",
    "    predictions += lgb_model.predict(df_test, num_iteration = lgb_model.best_iteration) / folds.n_splits\n",
    "\n",
    "print(\"CV score: {:<8.5f}\".format(roc_auc_score(target, oof)))"
   ]
  },
  {
   "cell_type": "code",
   "execution_count": 199,
   "metadata": {},
   "outputs": [
    {
     "name": "stdout",
     "output_type": "stream",
     "text": [
      "Submission saved to ./_submission_2019-04-21_19-49-19.csv\n"
     ]
    }
   ],
   "source": [
    "_ = submit_file(predictions)"
   ]
  },
  {
   "cell_type": "code",
   "execution_count": 204,
   "metadata": {},
   "outputs": [],
   "source": [
    "logit = LogisticRegression()\n",
    "sc = StandardScaler()\n",
    "X = sc.fit_transform(df_train)\n",
    "X_test = sc.transform(df_test)\n",
    "ly_pred = logit.fit(X, target).predict_proba(X_test)[:, 1]"
   ]
  },
  {
   "cell_type": "code",
   "execution_count": 205,
   "metadata": {},
   "outputs": [
    {
     "data": {
      "text/plain": [
       "array([0.18136463, 0.97427256, 0.95242177, ..., 0.50624893, 0.8271202 ,\n",
       "       0.06788731])"
      ]
     },
     "execution_count": 205,
     "metadata": {},
     "output_type": "execute_result"
    }
   ],
   "source": [
    "ly_pred"
   ]
  },
  {
   "cell_type": "code",
   "execution_count": 206,
   "metadata": {},
   "outputs": [
    {
     "data": {
      "text/plain": [
       "array([0.21392895, 0.98623192, 0.950771  , ..., 0.33947035, 0.83247634,\n",
       "       0.12034529])"
      ]
     },
     "execution_count": 206,
     "metadata": {},
     "output_type": "execute_result"
    }
   ],
   "source": [
    "predictions"
   ]
  },
  {
   "cell_type": "code",
   "execution_count": 209,
   "metadata": {},
   "outputs": [
    {
     "data": {
      "image/png": "[encoded data removed]",
      "text/plain": [
       "<Figure size 432x288 with 1 Axes>"
      ]
     },
     "metadata": {
      "needs_background": "light"
     },
     "output_type": "display_data"
    }
   ],
   "source": [
    "_ = plt.hist(np.abs(ly_pred - predictions))"
   ]
  },
  {
   "cell_type": "code",
   "execution_count": 226,
   "metadata": {},
   "outputs": [],
   "source": [
    "mix_pred = predictions * 0.5 + ly_pred * 0.4"
   ]
  },
  {
   "cell_type": "code",
   "execution_count": 227,
   "metadata": {},
   "outputs": [
    {
     "name": "stdout",
     "output_type": "stream",
     "text": [
      "Submission saved to ./_submission_2019-04-21_20-06-02.csv\n"
     ]
    },
    {
     "data": {
      "text/html": [
       "<div>\n",
       "<style scoped>\n",
       "    .dataframe tbody tr th:only-of-type {\n",
       "        vertical-align: middle;\n",
       "    }\n",
       "\n",
       "    .dataframe tbody tr th {\n",
       "        vertical-align: top;\n",
       "    }\n",
       "\n",
       "    .dataframe thead th {\n",
       "        text-align: right;\n",
       "    }\n",
       "</style>\n",
       "<table border=\"1\" class=\"dataframe\">\n",
       "  <thead>\n",
       "    <tr style=\"text-align: right;\">\n",
       "      <th></th>\n",
       "      <th>radiant_win_prob</th>\n",
       "    </tr>\n",
       "    <tr>\n",
       "      <th>match_id_hash</th>\n",
       "      <th></th>\n",
       "    </tr>\n",
       "  </thead>\n",
       "  <tbody>\n",
       "    <tr>\n",
       "      <th>30cc2d778dca82f2edb568ce9b585caa</th>\n",
       "      <td>0.179510</td>\n",
       "    </tr>\n",
       "    <tr>\n",
       "      <th>70e5ba30f367cea48793b9003fab9d38</th>\n",
       "      <td>0.882825</td>\n",
       "    </tr>\n",
       "    <tr>\n",
       "      <th>4d9ef74d3a2025d79e9423105fd73d41</th>\n",
       "      <td>0.856354</td>\n",
       "    </tr>\n",
       "    <tr>\n",
       "      <th>2bb79e0c1eaac1608e5a09c8e0c6a555</th>\n",
       "      <td>0.663539</td>\n",
       "    </tr>\n",
       "    <tr>\n",
       "      <th>bec17f099b01d67edc82dfb5ce735a43</th>\n",
       "      <td>0.163459</td>\n",
       "    </tr>\n",
       "    <tr>\n",
       "      <th>038acbb47d9eb54c11962d07cce8d829</th>\n",
       "      <td>0.099852</td>\n",
       "    </tr>\n",
       "    <tr>\n",
       "      <th>b891f03bb2a86d78b84043437fc95e04</th>\n",
       "      <td>0.864471</td>\n",
       "    </tr>\n",
       "    <tr>\n",
       "      <th>ff898afdb5bb5c7163bde45a009503f7</th>\n",
       "      <td>0.046658</td>\n",
       "    </tr>\n",
       "    <tr>\n",
       "      <th>72e6b1c31c718c0806f9aaeb8b7290a9</th>\n",
       "      <td>0.581114</td>\n",
       "    </tr>\n",
       "    <tr>\n",
       "      <th>abd97ab60ceca3ae6f00a28baea8a43c</th>\n",
       "      <td>0.302261</td>\n",
       "    </tr>\n",
       "    <tr>\n",
       "      <th>d46d5407bd08b42245e1bf2de86da403</th>\n",
       "      <td>0.079645</td>\n",
       "    </tr>\n",
       "    <tr>\n",
       "      <th>a176147b06a337304ab179cd3b432015</th>\n",
       "      <td>0.273257</td>\n",
       "    </tr>\n",
       "    <tr>\n",
       "      <th>f4e59a3443f4d1e55b8639651dca3a4d</th>\n",
       "      <td>0.029569</td>\n",
       "    </tr>\n",
       "    <tr>\n",
       "      <th>2b8263ce33e0320e9d8b2775f65c3eef</th>\n",
       "      <td>0.380647</td>\n",
       "    </tr>\n",
       "    <tr>\n",
       "      <th>2d0803ecc11a376020a41da9aa255e23</th>\n",
       "      <td>0.895131</td>\n",
       "    </tr>\n",
       "    <tr>\n",
       "      <th>4e043d36d488c88b73afec997ea4fb76</th>\n",
       "      <td>0.873737</td>\n",
       "    </tr>\n",
       "    <tr>\n",
       "      <th>30f5b5e14622068c186b6f4e937bd6b9</th>\n",
       "      <td>0.563501</td>\n",
       "    </tr>\n",
       "    <tr>\n",
       "      <th>44ef19f09cec7868270e5e62aba4a3ff</th>\n",
       "      <td>0.692024</td>\n",
       "    </tr>\n",
       "    <tr>\n",
       "      <th>47b462bb8974dbe082357e8b1ddececd</th>\n",
       "      <td>0.358105</td>\n",
       "    </tr>\n",
       "    <tr>\n",
       "      <th>41e32d96134ca0a52c1a1be7faefd752</th>\n",
       "      <td>0.501400</td>\n",
       "    </tr>\n",
       "    <tr>\n",
       "      <th>a25a6fc067bc963af369f45d655db098</th>\n",
       "      <td>0.624377</td>\n",
       "    </tr>\n",
       "    <tr>\n",
       "      <th>f9bf94520433bc98d287e01ae84090eb</th>\n",
       "      <td>0.768189</td>\n",
       "    </tr>\n",
       "    <tr>\n",
       "      <th>3c83af081c79a7bcce2f47c038ccb360</th>\n",
       "      <td>0.588611</td>\n",
       "    </tr>\n",
       "    <tr>\n",
       "      <th>e6955d1c0b810cc5dc9197cc7d404831</th>\n",
       "      <td>0.500466</td>\n",
       "    </tr>\n",
       "    <tr>\n",
       "      <th>f53297cb268acd155dc0ba92765067d3</th>\n",
       "      <td>0.304802</td>\n",
       "    </tr>\n",
       "    <tr>\n",
       "      <th>021cefc286d907c7b8ad4156f06067f2</th>\n",
       "      <td>0.480485</td>\n",
       "    </tr>\n",
       "    <tr>\n",
       "      <th>6b8377392b416087a5486b667159e942</th>\n",
       "      <td>0.059439</td>\n",
       "    </tr>\n",
       "    <tr>\n",
       "      <th>17d1e4a72ebca9d7e5bb04595219d7f4</th>\n",
       "      <td>0.419047</td>\n",
       "    </tr>\n",
       "    <tr>\n",
       "      <th>d020af84fd2a439bc9019dc681bc2325</th>\n",
       "      <td>0.091352</td>\n",
       "    </tr>\n",
       "    <tr>\n",
       "      <th>525559396be62ae36be7fa72246b9ffa</th>\n",
       "      <td>0.314452</td>\n",
       "    </tr>\n",
       "    <tr>\n",
       "      <th>...</th>\n",
       "      <td>...</td>\n",
       "    </tr>\n",
       "    <tr>\n",
       "      <th>c913a89ddffa497835769c99b24b25aa</th>\n",
       "      <td>0.375881</td>\n",
       "    </tr>\n",
       "    <tr>\n",
       "      <th>4b113100861b99c04fc270ae18807700</th>\n",
       "      <td>0.637071</td>\n",
       "    </tr>\n",
       "    <tr>\n",
       "      <th>f86cc178e1ecf0c17509209ea6e3ef49</th>\n",
       "      <td>0.811442</td>\n",
       "    </tr>\n",
       "    <tr>\n",
       "      <th>421beec51c4acd0282ac03c2e9569aeb</th>\n",
       "      <td>0.348899</td>\n",
       "    </tr>\n",
       "    <tr>\n",
       "      <th>05a3dc10c8aebffb26ee776fae616916</th>\n",
       "      <td>0.404589</td>\n",
       "    </tr>\n",
       "    <tr>\n",
       "      <th>8e62a73759ec6a4c0670ea7acef871e1</th>\n",
       "      <td>0.526438</td>\n",
       "    </tr>\n",
       "    <tr>\n",
       "      <th>1f21f16824bb9fca40a69fde261aafd8</th>\n",
       "      <td>0.582499</td>\n",
       "    </tr>\n",
       "    <tr>\n",
       "      <th>49d8d2f8f23138d49072b40ea3fbcd5b</th>\n",
       "      <td>0.711710</td>\n",
       "    </tr>\n",
       "    <tr>\n",
       "      <th>a0c23524bf4cd787fb6e9b6c6d668058</th>\n",
       "      <td>0.628210</td>\n",
       "    </tr>\n",
       "    <tr>\n",
       "      <th>375cc3cbb1210476343ddaefb51ec043</th>\n",
       "      <td>0.501426</td>\n",
       "    </tr>\n",
       "    <tr>\n",
       "      <th>c67b6ab5ae661b9d4e328c205d4e4816</th>\n",
       "      <td>0.694187</td>\n",
       "    </tr>\n",
       "    <tr>\n",
       "      <th>9b4c43f9965b471ff87f40d47451c240</th>\n",
       "      <td>0.202974</td>\n",
       "    </tr>\n",
       "    <tr>\n",
       "      <th>b0b17fbe9393ab2919a6c1fab48333e3</th>\n",
       "      <td>0.350456</td>\n",
       "    </tr>\n",
       "    <tr>\n",
       "      <th>977a1db0b5295f6f463abc20d16b36ec</th>\n",
       "      <td>0.012094</td>\n",
       "    </tr>\n",
       "    <tr>\n",
       "      <th>67763ba6ea46c7614add2a2f38e76d45</th>\n",
       "      <td>0.550066</td>\n",
       "    </tr>\n",
       "    <tr>\n",
       "      <th>3e260e7d503da8eb5e9d7321489eba55</th>\n",
       "      <td>0.132461</td>\n",
       "    </tr>\n",
       "    <tr>\n",
       "      <th>29355f338e4ee84c68dcbdcb3858374c</th>\n",
       "      <td>0.004184</td>\n",
       "    </tr>\n",
       "    <tr>\n",
       "      <th>d0b103e2548d7281e5374fb6071b28be</th>\n",
       "      <td>0.675904</td>\n",
       "    </tr>\n",
       "    <tr>\n",
       "      <th>052d0e44037cffc7b437d1555089cd2c</th>\n",
       "      <td>0.864614</td>\n",
       "    </tr>\n",
       "    <tr>\n",
       "      <th>94d83308baeae2a5a23824c710d52d73</th>\n",
       "      <td>0.605559</td>\n",
       "    </tr>\n",
       "    <tr>\n",
       "      <th>7a69ab7dd2fdb183f127f55a698ef5df</th>\n",
       "      <td>0.231786</td>\n",
       "    </tr>\n",
       "    <tr>\n",
       "      <th>cef3958c84197b84c6d06129fc9b7a0d</th>\n",
       "      <td>0.548577</td>\n",
       "    </tr>\n",
       "    <tr>\n",
       "      <th>3dbc63f2bf146f40d3713ec5b701a8dd</th>\n",
       "      <td>0.712555</td>\n",
       "    </tr>\n",
       "    <tr>\n",
       "      <th>6bd9779a71650348aa3cd75f45278bfb</th>\n",
       "      <td>0.864929</td>\n",
       "    </tr>\n",
       "    <tr>\n",
       "      <th>d4f6592672c7afd8af47f6002d54ccd8</th>\n",
       "      <td>0.733569</td>\n",
       "    </tr>\n",
       "    <tr>\n",
       "      <th>9376a283b50779433de829c79529fe2c</th>\n",
       "      <td>0.005600</td>\n",
       "    </tr>\n",
       "    <tr>\n",
       "      <th>bce2bace8b61980d282c9f6a9c69ef9c</th>\n",
       "      <td>0.848275</td>\n",
       "    </tr>\n",
       "    <tr>\n",
       "      <th>dc00c2964363b0344a4891bdde235a44</th>\n",
       "      <td>0.372235</td>\n",
       "    </tr>\n",
       "    <tr>\n",
       "      <th>d75db83f7857720f851a302b00ee6149</th>\n",
       "      <td>0.747086</td>\n",
       "    </tr>\n",
       "    <tr>\n",
       "      <th>1bbaf6d71e197ebf96c6afa3c921000a</th>\n",
       "      <td>0.087328</td>\n",
       "    </tr>\n",
       "  </tbody>\n",
       "</table>\n",
       "<p>10000 rows × 1 columns</p>\n",
       "</div>"
      ],
      "text/plain": [
       "                                  radiant_win_prob\n",
       "match_id_hash                                     \n",
       "30cc2d778dca82f2edb568ce9b585caa          0.179510\n",
       "70e5ba30f367cea48793b9003fab9d38          0.882825\n",
       "4d9ef74d3a2025d79e9423105fd73d41          0.856354\n",
       "2bb79e0c1eaac1608e5a09c8e0c6a555          0.663539\n",
       "bec17f099b01d67edc82dfb5ce735a43          0.163459\n",
       "038acbb47d9eb54c11962d07cce8d829          0.099852\n",
       "b891f03bb2a86d78b84043437fc95e04          0.864471\n",
       "ff898afdb5bb5c7163bde45a009503f7          0.046658\n",
       "72e6b1c31c718c0806f9aaeb8b7290a9          0.581114\n",
       "abd97ab60ceca3ae6f00a28baea8a43c          0.302261\n",
       "d46d5407bd08b42245e1bf2de86da403          0.079645\n",
       "a176147b06a337304ab179cd3b432015          0.273257\n",
       "f4e59a3443f4d1e55b8639651dca3a4d          0.029569\n",
       "2b8263ce33e0320e9d8b2775f65c3eef          0.380647\n",
       "2d0803ecc11a376020a41da9aa255e23          0.895131\n",
       "4e043d36d488c88b73afec997ea4fb76          0.873737\n",
       "30f5b5e14622068c186b6f4e937bd6b9          0.563501\n",
       "44ef19f09cec7868270e5e62aba4a3ff          0.692024\n",
       "47b462bb8974dbe082357e8b1ddececd          0.358105\n",
       "41e32d96134ca0a52c1a1be7faefd752          0.501400\n",
       "a25a6fc067bc963af369f45d655db098          0.624377\n",
       "f9bf94520433bc98d287e01ae84090eb          0.768189\n",
       "3c83af081c79a7bcce2f47c038ccb360          0.588611\n",
       "e6955d1c0b810cc5dc9197cc7d404831          0.500466\n",
       "f53297cb268acd155dc0ba92765067d3          0.304802\n",
       "021cefc286d907c7b8ad4156f06067f2          0.480485\n",
       "6b8377392b416087a5486b667159e942          0.059439\n",
       "17d1e4a72ebca9d7e5bb04595219d7f4          0.419047\n",
       "d020af84fd2a439bc9019dc681bc2325          0.091352\n",
       "525559396be62ae36be7fa72246b9ffa          0.314452\n",
       "...                                            ...\n",
       "c913a89ddffa497835769c99b24b25aa          0.375881\n",
       "4b113100861b99c04fc270ae18807700          0.637071\n",
       "f86cc178e1ecf0c17509209ea6e3ef49          0.811442\n",
       "421beec51c4acd0282ac03c2e9569aeb          0.348899\n",
       "05a3dc10c8aebffb26ee776fae616916          0.404589\n",
       "8e62a73759ec6a4c0670ea7acef871e1          0.526438\n",
       "1f21f16824bb9fca40a69fde261aafd8          0.582499\n",
       "49d8d2f8f23138d49072b40ea3fbcd5b          0.711710\n",
       "a0c23524bf4cd787fb6e9b6c6d668058          0.628210\n",
       "375cc3cbb1210476343ddaefb51ec043          0.501426\n",
       "c67b6ab5ae661b9d4e328c205d4e4816          0.694187\n",
       "9b4c43f9965b471ff87f40d47451c240          0.202974\n",
       "b0b17fbe9393ab2919a6c1fab48333e3          0.350456\n",
       "977a1db0b5295f6f463abc20d16b36ec          0.012094\n",
       "67763ba6ea46c7614add2a2f38e76d45          0.550066\n",
       "3e260e7d503da8eb5e9d7321489eba55          0.132461\n",
       "29355f338e4ee84c68dcbdcb3858374c          0.004184\n",
       "d0b103e2548d7281e5374fb6071b28be          0.675904\n",
       "052d0e44037cffc7b437d1555089cd2c          0.864614\n",
       "94d83308baeae2a5a23824c710d52d73          0.605559\n",
       "7a69ab7dd2fdb183f127f55a698ef5df          0.231786\n",
       "cef3958c84197b84c6d06129fc9b7a0d          0.548577\n",
       "3dbc63f2bf146f40d3713ec5b701a8dd          0.712555\n",
       "6bd9779a71650348aa3cd75f45278bfb          0.864929\n",
       "d4f6592672c7afd8af47f6002d54ccd8          0.733569\n",
       "9376a283b50779433de829c79529fe2c          0.005600\n",
       "bce2bace8b61980d282c9f6a9c69ef9c          0.848275\n",
       "dc00c2964363b0344a4891bdde235a44          0.372235\n",
       "d75db83f7857720f851a302b00ee6149          0.747086\n",
       "1bbaf6d71e197ebf96c6afa3c921000a          0.087328\n",
       "\n",
       "[10000 rows x 1 columns]"
      ]
     },
     "execution_count": 227,
     "metadata": {},
     "output_type": "execute_result"
    }
   ],
   "source": [
    "submit_file(mix_pred)"
   ]
  },
  {
   "cell_type": "code",
   "execution_count": 219,
   "metadata": {},
   "outputs": [
    {
     "data": {
      "text/plain": [
       "1.0"
      ]
     },
     "execution_count": 219,
     "metadata": {},
     "output_type": "execute_result"
    }
   ],
   "source": [
    "round(0.51, 0)"
   ]
  },
  {
   "cell_type": "code",
   "execution_count": 220,
   "metadata": {},
   "outputs": [],
   "source": [
    "mm = []\n",
    "for x1,x2 in zip(predictions, ly_pred):\n",
    "    X = np.mean([x1,x2])\n",
    "    if abs(x1-x2) < .5 and x1 > 0.7 or x2 > 0.7:\n",
    "        X = 1\n",
    "    if abs(x1-x2) < .5 and x1 < 0.3 or x2 < 0.3:\n",
    "        X = 0\n",
    "    mm.append(X)"
   ]
  },
  {
   "cell_type": "code",
   "execution_count": 222,
   "metadata": {},
   "outputs": [
    {
     "name": "stdout",
     "output_type": "stream",
     "text": [
      "Submission saved to ./_submission_2019-04-21_20-02-02.csv\n"
     ]
    }
   ],
   "source": [
    "_ = submit_file(mm)"
   ]
  },
  {
   "cell_type": "code",
   "execution_count": 185,
   "metadata": {},
   "outputs": [
    {
     "data": {
      "text/html": [
       "<div>\n",
       "<style scoped>\n",
       "    .dataframe tbody tr th:only-of-type {\n",
       "        vertical-align: middle;\n",
       "    }\n",
       "\n",
       "    .dataframe tbody tr th {\n",
       "        vertical-align: top;\n",
       "    }\n",
       "\n",
       "    .dataframe thead th {\n",
       "        text-align: right;\n",
       "    }\n",
       "</style>\n",
       "<table border=\"1\" class=\"dataframe\">\n",
       "  <thead>\n",
       "    <tr style=\"text-align: right;\">\n",
       "      <th></th>\n",
       "      <th>r1_health</th>\n",
       "      <th>r1_max_health</th>\n",
       "      <th>r2_health</th>\n",
       "      <th>r2_max_health</th>\n",
       "      <th>r3_health</th>\n",
       "      <th>r3_max_health</th>\n",
       "      <th>r4_health</th>\n",
       "      <th>r4_max_health</th>\n",
       "      <th>r5_health</th>\n",
       "      <th>r5_max_health</th>\n",
       "      <th>d1_health</th>\n",
       "      <th>d1_max_health</th>\n",
       "      <th>d2_health</th>\n",
       "      <th>d2_max_health</th>\n",
       "      <th>d3_health</th>\n",
       "      <th>d3_max_health</th>\n",
       "      <th>d4_health</th>\n",
       "      <th>d4_max_health</th>\n",
       "      <th>d5_health</th>\n",
       "      <th>d5_max_health</th>\n",
       "    </tr>\n",
       "    <tr>\n",
       "      <th>match_id_hash</th>\n",
       "      <th></th>\n",
       "      <th></th>\n",
       "      <th></th>\n",
       "      <th></th>\n",
       "      <th></th>\n",
       "      <th></th>\n",
       "      <th></th>\n",
       "      <th></th>\n",
       "      <th></th>\n",
       "      <th></th>\n",
       "      <th></th>\n",
       "      <th></th>\n",
       "      <th></th>\n",
       "      <th></th>\n",
       "      <th></th>\n",
       "      <th></th>\n",
       "      <th></th>\n",
       "      <th></th>\n",
       "      <th></th>\n",
       "      <th></th>\n",
       "    </tr>\n",
       "  </thead>\n",
       "  <tbody>\n",
       "    <tr>\n",
       "      <th>a400b8f29dece5f4d266f49f1ae2e98a</th>\n",
       "      <td>358</td>\n",
       "      <td>600</td>\n",
       "      <td>636</td>\n",
       "      <td>720</td>\n",
       "      <td>700</td>\n",
       "      <td>700</td>\n",
       "      <td>399</td>\n",
       "      <td>700</td>\n",
       "      <td>422</td>\n",
       "      <td>800</td>\n",
       "      <td>650</td>\n",
       "      <td>720</td>\n",
       "      <td>640</td>\n",
       "      <td>640</td>\n",
       "      <td>720</td>\n",
       "      <td>720</td>\n",
       "      <td>760</td>\n",
       "      <td>760</td>\n",
       "      <td>593</td>\n",
       "      <td>680</td>\n",
       "    </tr>\n",
       "    <tr>\n",
       "      <th>b9c57c450ce74a2af79c9ce96fac144d</th>\n",
       "      <td>1160</td>\n",
       "      <td>1160</td>\n",
       "      <td>1352</td>\n",
       "      <td>1380</td>\n",
       "      <td>710</td>\n",
       "      <td>860</td>\n",
       "      <td>420</td>\n",
       "      <td>880</td>\n",
       "      <td>856</td>\n",
       "      <td>900</td>\n",
       "      <td>700</td>\n",
       "      <td>700</td>\n",
       "      <td>758</td>\n",
       "      <td>1040</td>\n",
       "      <td>485</td>\n",
       "      <td>800</td>\n",
       "      <td>567</td>\n",
       "      <td>1160</td>\n",
       "      <td>800</td>\n",
       "      <td>800</td>\n",
       "    </tr>\n",
       "    <tr>\n",
       "      <th>6db558535151ea18ca70a6892197db41</th>\n",
       "      <td>680</td>\n",
       "      <td>680</td>\n",
       "      <td>720</td>\n",
       "      <td>720</td>\n",
       "      <td>568</td>\n",
       "      <td>600</td>\n",
       "      <td>580</td>\n",
       "      <td>580</td>\n",
       "      <td>580</td>\n",
       "      <td>580</td>\n",
       "      <td>660</td>\n",
       "      <td>660</td>\n",
       "      <td>586</td>\n",
       "      <td>620</td>\n",
       "      <td>660</td>\n",
       "      <td>660</td>\n",
       "      <td>600</td>\n",
       "      <td>600</td>\n",
       "      <td>640</td>\n",
       "      <td>640</td>\n",
       "    </tr>\n",
       "    <tr>\n",
       "      <th>46a0ddce8f7ed2a8d9bd5edcbb925682</th>\n",
       "      <td>900</td>\n",
       "      <td>900</td>\n",
       "      <td>878</td>\n",
       "      <td>1100</td>\n",
       "      <td>980</td>\n",
       "      <td>980</td>\n",
       "      <td>640</td>\n",
       "      <td>640</td>\n",
       "      <td>1079</td>\n",
       "      <td>1100</td>\n",
       "      <td>825</td>\n",
       "      <td>1160</td>\n",
       "      <td>735</td>\n",
       "      <td>880</td>\n",
       "      <td>817</td>\n",
       "      <td>860</td>\n",
       "      <td>1160</td>\n",
       "      <td>1160</td>\n",
       "      <td>630</td>\n",
       "      <td>740</td>\n",
       "    </tr>\n",
       "    <tr>\n",
       "      <th>b1b35ff97723d9b7ade1c9c3cf48f770</th>\n",
       "      <td>1000</td>\n",
       "      <td>1000</td>\n",
       "      <td>868</td>\n",
       "      <td>1000</td>\n",
       "      <td>578</td>\n",
       "      <td>860</td>\n",
       "      <td>777</td>\n",
       "      <td>980</td>\n",
       "      <td>281</td>\n",
       "      <td>820</td>\n",
       "      <td>709</td>\n",
       "      <td>940</td>\n",
       "      <td>712</td>\n",
       "      <td>820</td>\n",
       "      <td>349</td>\n",
       "      <td>720</td>\n",
       "      <td>680</td>\n",
       "      <td>680</td>\n",
       "      <td>692</td>\n",
       "      <td>740</td>\n",
       "    </tr>\n",
       "  </tbody>\n",
       "</table>\n",
       "</div>"
      ],
      "text/plain": [
       "                                  r1_health  r1_max_health  r2_health  \\\n",
       "match_id_hash                                                           \n",
       "a400b8f29dece5f4d266f49f1ae2e98a        358            600        636   \n",
       "b9c57c450ce74a2af79c9ce96fac144d       1160           1160       1352   \n",
       "6db558535151ea18ca70a6892197db41        680            680        720   \n",
       "46a0ddce8f7ed2a8d9bd5edcbb925682        900            900        878   \n",
       "b1b35ff97723d9b7ade1c9c3cf48f770       1000           1000        868   \n",
       "\n",
       "                                  r2_max_health  r3_health  r3_max_health  \\\n",
       "match_id_hash                                                               \n",
       "a400b8f29dece5f4d266f49f1ae2e98a            720        700            700   \n",
       "b9c57c450ce74a2af79c9ce96fac144d           1380        710            860   \n",
       "6db558535151ea18ca70a6892197db41            720        568            600   \n",
       "46a0ddce8f7ed2a8d9bd5edcbb925682           1100        980            980   \n",
       "b1b35ff97723d9b7ade1c9c3cf48f770           1000        578            860   \n",
       "\n",
       "                                  r4_health  r4_max_health  r5_health  \\\n",
       "match_id_hash                                                           \n",
       "a400b8f29dece5f4d266f49f1ae2e98a        399            700        422   \n",
       "b9c57c450ce74a2af79c9ce96fac144d        420            880        856   \n",
       "6db558535151ea18ca70a6892197db41        580            580        580   \n",
       "46a0ddce8f7ed2a8d9bd5edcbb925682        640            640       1079   \n",
       "b1b35ff97723d9b7ade1c9c3cf48f770        777            980        281   \n",
       "\n",
       "                                  r5_max_health  d1_health  d1_max_health  \\\n",
       "match_id_hash                                                               \n",
       "a400b8f29dece5f4d266f49f1ae2e98a            800        650            720   \n",
       "b9c57c450ce74a2af79c9ce96fac144d            900        700            700   \n",
       "6db558535151ea18ca70a6892197db41            580        660            660   \n",
       "46a0ddce8f7ed2a8d9bd5edcbb925682           1100        825           1160   \n",
       "b1b35ff97723d9b7ade1c9c3cf48f770            820        709            940   \n",
       "\n",
       "                                  d2_health  d2_max_health  d3_health  \\\n",
       "match_id_hash                                                           \n",
       "a400b8f29dece5f4d266f49f1ae2e98a        640            640        720   \n",
       "b9c57c450ce74a2af79c9ce96fac144d        758           1040        485   \n",
       "6db558535151ea18ca70a6892197db41        586            620        660   \n",
       "46a0ddce8f7ed2a8d9bd5edcbb925682        735            880        817   \n",
       "b1b35ff97723d9b7ade1c9c3cf48f770        712            820        349   \n",
       "\n",
       "                                  d3_max_health  d4_health  d4_max_health  \\\n",
       "match_id_hash                                                               \n",
       "a400b8f29dece5f4d266f49f1ae2e98a            720        760            760   \n",
       "b9c57c450ce74a2af79c9ce96fac144d            800        567           1160   \n",
       "6db558535151ea18ca70a6892197db41            660        600            600   \n",
       "46a0ddce8f7ed2a8d9bd5edcbb925682            860       1160           1160   \n",
       "b1b35ff97723d9b7ade1c9c3cf48f770            720        680            680   \n",
       "\n",
       "                                  d5_health  d5_max_health  \n",
       "match_id_hash                                               \n",
       "a400b8f29dece5f4d266f49f1ae2e98a        593            680  \n",
       "b9c57c450ce74a2af79c9ce96fac144d        800            800  \n",
       "6db558535151ea18ca70a6892197db41        640            640  \n",
       "46a0ddce8f7ed2a8d9bd5edcbb925682        630            740  \n",
       "b1b35ff97723d9b7ade1c9c3cf48f770        692            740  "
      ]
     },
     "execution_count": 185,
     "metadata": {},
     "output_type": "execute_result"
    }
   ],
   "source": [
    "full_df[[c for c in full_df.columns if 'health' in c]].head()"
   ]
  },
  {
   "cell_type": "code",
   "execution_count": 229,
   "metadata": {},
   "outputs": [
    {
     "data": {
      "text/html": [
       "<div>\n",
       "<style scoped>\n",
       "    .dataframe tbody tr th:only-of-type {\n",
       "        vertical-align: middle;\n",
       "    }\n",
       "\n",
       "    .dataframe tbody tr th {\n",
       "        vertical-align: top;\n",
       "    }\n",
       "\n",
       "    .dataframe thead th {\n",
       "        text-align: right;\n",
       "    }\n",
       "</style>\n",
       "<table border=\"1\" class=\"dataframe\">\n",
       "  <thead>\n",
       "    <tr style=\"text-align: right;\">\n",
       "      <th></th>\n",
       "      <th>r1_obs_placed</th>\n",
       "      <th>r2_obs_placed</th>\n",
       "      <th>r3_obs_placed</th>\n",
       "      <th>r4_obs_placed</th>\n",
       "      <th>r5_obs_placed</th>\n",
       "      <th>d1_obs_placed</th>\n",
       "      <th>d2_obs_placed</th>\n",
       "      <th>d3_obs_placed</th>\n",
       "      <th>d4_obs_placed</th>\n",
       "      <th>d5_obs_placed</th>\n",
       "    </tr>\n",
       "    <tr>\n",
       "      <th>match_id_hash</th>\n",
       "      <th></th>\n",
       "      <th></th>\n",
       "      <th></th>\n",
       "      <th></th>\n",
       "      <th></th>\n",
       "      <th></th>\n",
       "      <th></th>\n",
       "      <th></th>\n",
       "      <th></th>\n",
       "      <th></th>\n",
       "    </tr>\n",
       "  </thead>\n",
       "  <tbody>\n",
       "    <tr>\n",
       "      <th>a400b8f29dece5f4d266f49f1ae2e98a</th>\n",
       "      <td>0</td>\n",
       "      <td>0</td>\n",
       "      <td>0</td>\n",
       "      <td>0</td>\n",
       "      <td>0</td>\n",
       "      <td>0</td>\n",
       "      <td>0</td>\n",
       "      <td>0</td>\n",
       "      <td>1</td>\n",
       "      <td>0</td>\n",
       "    </tr>\n",
       "    <tr>\n",
       "      <th>b9c57c450ce74a2af79c9ce96fac144d</th>\n",
       "      <td>0</td>\n",
       "      <td>0</td>\n",
       "      <td>3</td>\n",
       "      <td>1</td>\n",
       "      <td>0</td>\n",
       "      <td>1</td>\n",
       "      <td>4</td>\n",
       "      <td>0</td>\n",
       "      <td>0</td>\n",
       "      <td>0</td>\n",
       "    </tr>\n",
       "    <tr>\n",
       "      <th>6db558535151ea18ca70a6892197db41</th>\n",
       "      <td>0</td>\n",
       "      <td>0</td>\n",
       "      <td>0</td>\n",
       "      <td>0</td>\n",
       "      <td>0</td>\n",
       "      <td>0</td>\n",
       "      <td>0</td>\n",
       "      <td>0</td>\n",
       "      <td>0</td>\n",
       "      <td>0</td>\n",
       "    </tr>\n",
       "    <tr>\n",
       "      <th>46a0ddce8f7ed2a8d9bd5edcbb925682</th>\n",
       "      <td>0</td>\n",
       "      <td>0</td>\n",
       "      <td>2</td>\n",
       "      <td>2</td>\n",
       "      <td>0</td>\n",
       "      <td>0</td>\n",
       "      <td>1</td>\n",
       "      <td>0</td>\n",
       "      <td>0</td>\n",
       "      <td>2</td>\n",
       "    </tr>\n",
       "    <tr>\n",
       "      <th>b1b35ff97723d9b7ade1c9c3cf48f770</th>\n",
       "      <td>0</td>\n",
       "      <td>0</td>\n",
       "      <td>0</td>\n",
       "      <td>0</td>\n",
       "      <td>0</td>\n",
       "      <td>0</td>\n",
       "      <td>0</td>\n",
       "      <td>0</td>\n",
       "      <td>0</td>\n",
       "      <td>0</td>\n",
       "    </tr>\n",
       "  </tbody>\n",
       "</table>\n",
       "</div>"
      ],
      "text/plain": [
       "                                  r1_obs_placed  r2_obs_placed  r3_obs_placed  \\\n",
       "match_id_hash                                                                   \n",
       "a400b8f29dece5f4d266f49f1ae2e98a              0              0              0   \n",
       "b9c57c450ce74a2af79c9ce96fac144d              0              0              3   \n",
       "6db558535151ea18ca70a6892197db41              0              0              0   \n",
       "46a0ddce8f7ed2a8d9bd5edcbb925682              0              0              2   \n",
       "b1b35ff97723d9b7ade1c9c3cf48f770              0              0              0   \n",
       "\n",
       "                                  r4_obs_placed  r5_obs_placed  d1_obs_placed  \\\n",
       "match_id_hash                                                                   \n",
       "a400b8f29dece5f4d266f49f1ae2e98a              0              0              0   \n",
       "b9c57c450ce74a2af79c9ce96fac144d              1              0              1   \n",
       "6db558535151ea18ca70a6892197db41              0              0              0   \n",
       "46a0ddce8f7ed2a8d9bd5edcbb925682              2              0              0   \n",
       "b1b35ff97723d9b7ade1c9c3cf48f770              0              0              0   \n",
       "\n",
       "                                  d2_obs_placed  d3_obs_placed  d4_obs_placed  \\\n",
       "match_id_hash                                                                   \n",
       "a400b8f29dece5f4d266f49f1ae2e98a              0              0              1   \n",
       "b9c57c450ce74a2af79c9ce96fac144d              4              0              0   \n",
       "6db558535151ea18ca70a6892197db41              0              0              0   \n",
       "46a0ddce8f7ed2a8d9bd5edcbb925682              1              0              0   \n",
       "b1b35ff97723d9b7ade1c9c3cf48f770              0              0              0   \n",
       "\n",
       "                                  d5_obs_placed  \n",
       "match_id_hash                                    \n",
       "a400b8f29dece5f4d266f49f1ae2e98a              0  \n",
       "b9c57c450ce74a2af79c9ce96fac144d              0  \n",
       "6db558535151ea18ca70a6892197db41              0  \n",
       "46a0ddce8f7ed2a8d9bd5edcbb925682              2  \n",
       "b1b35ff97723d9b7ade1c9c3cf48f770              0  "
      ]
     },
     "execution_count": 229,
     "metadata": {},
     "output_type": "execute_result"
    }
   ],
   "source": [
    "full_df[[c for c in full_df.columns if 'obs_placed' in c]].head()"
   ]
  },
  {
   "cell_type": "code",
   "execution_count": null,
   "metadata": {},
   "outputs": [],
   "source": []
  },
  {
   "cell_type": "code",
   "execution_count": null,
   "metadata": {},
   "outputs": [],
   "source": []
  },
  {
   "cell_type": "markdown",
   "metadata": {
    "_uuid": "45cab0431a5ed4ebf76fe95c126a21e9edacab34"
   },
   "source": [
    "The second model is preferred. Look, there's a caveat here: the second model is actually better for 4 splits out of 5. So if we were to perform only one train/test split, there would've been a 20% probability to make a wrong conclusion that the first model is better."
   ]
  },
  {
   "cell_type": "code",
   "execution_count": 22,
   "metadata": {
    "_uuid": "0fab6c78d32dc46c36fee562e7edffe503e35d12"
   },
   "outputs": [
    {
     "data": {
      "text/plain": [
       "array([ True, False,  True,  True,  True])"
      ]
     },
     "execution_count": 22,
     "metadata": {},
     "output_type": "execute_result"
    }
   ],
   "source": [
    "cv_scores_rf2 > cv_scores_rf1"
   ]
  },
  {
   "cell_type": "markdown",
   "metadata": {
    "_uuid": "f1efeae942898ed6ef194ca7c1932070c2ffbc29"
   },
   "source": [
    "## Working with all available information on Dota games\n",
    "Raw data descriptions for all games are given in files `train_matches.jsonl` and `test_matches.jsonl`. Each file has one entry for each game in [JSON](https://en.wikipedia.org/wiki/JSON) format. You only need to know that it can be easily converted to Python objects via the `json.loads` method."
   ]
  },
  {
   "cell_type": "markdown",
   "metadata": {
    "_uuid": "b95a79b85bc5051773938feb1636d527726f6f18"
   },
   "source": [
    "##### Let's explore a single entry"
   ]
  },
  {
   "cell_type": "code",
   "execution_count": 97,
   "metadata": {
    "_uuid": "50dd106f366c8c3fff052d16d3e93f9f54edb8cf"
   },
   "outputs": [],
   "source": [
    "import json\n",
    "\n",
    "with open(os.path.join(PATH_TO_DATA, 'train_matches.jsonl')) as fin:\n",
    "    # read the 18-th line\n",
    "    for i in range(18):\n",
    "        line = fin.readline()\n",
    "    \n",
    "    # read JSON into a Python object \n",
    "    match = json.loads(line)"
   ]
  },
  {
   "cell_type": "markdown",
   "metadata": {
    "_uuid": "c572d6a50cb0f5f7654207806e7d497821832480"
   },
   "source": [
    "The `match` object is now a big Python dictionary. In `match['players']` we have a description of each player.\n",
    "\n",
    "You might think that this `match` object look ugly. You're right! That's actually the real data. And it's the ability to extract nice features from raw data that makes good Data Scientists stand out. You might even be unfamiliar with Dota (or any other application domain) but still be able to construct a good model via feature engineering. It's art and craftmanship at the same time.   "
   ]
  },
  {
   "cell_type": "code",
   "execution_count": 98,
   "metadata": {
    "_uuid": "c6d35e3ba574467684aa365c84c0a950adb25f8d"
   },
   "outputs": [],
   "source": [
    "#match"
   ]
  },
  {
   "cell_type": "code",
   "execution_count": 99,
   "metadata": {},
   "outputs": [
    {
     "data": {
      "text/plain": [
       "dict_keys(['game_time', 'match_id_hash', 'teamfights', 'objectives', 'chat', 'game_mode', 'lobby_type', 'players', 'targets'])"
      ]
     },
     "execution_count": 99,
     "metadata": {},
     "output_type": "execute_result"
    }
   ],
   "source": [
    "match.keys()"
   ]
  },
  {
   "cell_type": "code",
   "execution_count": 100,
   "metadata": {},
   "outputs": [
    {
     "data": {
      "text/plain": [
       "{'game_time': 2388,\n",
       " 'duration': 2763,\n",
       " 'time_remaining': 375,\n",
       " 'radiant_win': True,\n",
       " 'next_roshan_team': 'Dire'}"
      ]
     },
     "execution_count": 100,
     "metadata": {},
     "output_type": "execute_result"
    }
   ],
   "source": [
    "match['targets']"
   ]
  },
  {
   "cell_type": "code",
   "execution_count": null,
   "metadata": {},
   "outputs": [],
   "source": []
  },
  {
   "cell_type": "markdown",
   "metadata": {
    "_uuid": "babbafcee99d96b9d685261efee6fa3d4a232293"
   },
   "source": [
    "#### Player description"
   ]
  },
  {
   "cell_type": "code",
   "execution_count": 101,
   "metadata": {
    "_uuid": "6c40c80c2e7cd446b5f5cfcf66046750039d13ac"
   },
   "outputs": [],
   "source": [
    "player = match['players'][3]"
   ]
  },
  {
   "cell_type": "markdown",
   "metadata": {
    "_uuid": "3ea80ba2f482597b65990c4628c154cb13a2ef64"
   },
   "source": [
    "KDA: the number of kills, deaths, and assists to alleys."
   ]
  },
  {
   "cell_type": "code",
   "execution_count": 102,
   "metadata": {
    "_uuid": "8581f49ec3600141b6441a126e5f8a6bf57ec760"
   },
   "outputs": [
    {
     "data": {
      "text/plain": [
       "(7, 9, 14)"
      ]
     },
     "execution_count": 102,
     "metadata": {},
     "output_type": "execute_result"
    }
   ],
   "source": [
    "player['kills'], player['deaths'], player['assists']"
   ]
  },
  {
   "cell_type": "markdown",
   "metadata": {
    "_uuid": "b81e530220044d369f43beb5171287372f5fda94"
   },
   "source": [
    "Some statistics on player abilities:"
   ]
  },
  {
   "cell_type": "code",
   "execution_count": 103,
   "metadata": {
    "_uuid": "fd30e63960bd5348a5c05345cde2c1f2ac96d809"
   },
   "outputs": [
    {
     "data": {
      "text/plain": [
       "{'tidehunter_gush': 65, 'tidehunter_anchor_smash': 73, 'tidehunter_ravage': 9}"
      ]
     },
     "execution_count": 103,
     "metadata": {},
     "output_type": "execute_result"
    }
   ],
   "source": [
    "player['ability_uses']"
   ]
  },
  {
   "cell_type": "code",
   "execution_count": 105,
   "metadata": {},
   "outputs": [
    {
     "data": {
      "text/plain": [
       "{'tidehunter_gush': 65, 'tidehunter_anchor_smash': 73, 'tidehunter_ravage': 9}"
      ]
     },
     "execution_count": 105,
     "metadata": {},
     "output_type": "execute_result"
    }
   ],
   "source": [
    "player['ability_uses']"
   ]
  },
  {
   "cell_type": "code",
   "execution_count": 426,
   "metadata": {
    "collapsed": true
   },
   "outputs": [
    {
     "data": {
      "text/plain": [
       "[{'ability': 5495, 'time': 136, 'level': 1},\n",
       " {'ability': 5496, 'time': 330, 'level': 2},\n",
       " {'ability': 5495, 'time': 422, 'level': 3},\n",
       " {'ability': 5494, 'time': 473, 'level': 4},\n",
       " {'ability': 5494, 'time': 650, 'level': 5},\n",
       " {'ability': 5497, 'time': 804, 'level': 6},\n",
       " {'ability': 5496, 'time': 870, 'level': 7},\n",
       " {'ability': 5494, 'time': 1026, 'level': 8},\n",
       " {'ability': 5494, 'time': 1117, 'level': 9},\n",
       " {'ability': 5495, 'time': 1202, 'level': 10},\n",
       " {'ability': 5495, 'time': 1328, 'level': 11},\n",
       " {'ability': 5497, 'time': 1341, 'level': 12},\n",
       " {'ability': 6029, 'time': 1420, 'level': 13},\n",
       " {'ability': 5496, 'time': 1454, 'level': 14},\n",
       " {'ability': 5496, 'time': 1619, 'level': 15},\n",
       " {'ability': 6078, 'time': 1667, 'level': 16},\n",
       " {'ability': 5497, 'time': 1798, 'level': 17},\n",
       " {'ability': 6892, 'time': 2044, 'level': 18}]"
      ]
     },
     "execution_count": 426,
     "metadata": {},
     "output_type": "execute_result"
    }
   ],
   "source": [
    "player['ability_upgrades']"
   ]
  },
  {
   "cell_type": "code",
   "execution_count": 428,
   "metadata": {
    "collapsed": true
   },
   "outputs": [
    {
     "data": {
      "text/plain": [
       "{'stout_shield': 1,\n",
       " 'quelling_blade': 1,\n",
       " 'tango': 1,\n",
       " 'tpscroll': 7,\n",
       " 'gloves': 1,\n",
       " 'boots': 1,\n",
       " 'belt_of_strength': 2,\n",
       " 'power_treads': 1,\n",
       " 'orb_of_venom': 1,\n",
       " 'magic_stick': 1,\n",
       " 'shadow_amulet': 1,\n",
       " 'claymore': 1,\n",
       " 'invis_sword': 1,\n",
       " 'ogre_axe': 1,\n",
       " 'sobi_mask': 1,\n",
       " 'robe': 1,\n",
       " 'quarterstaff': 1,\n",
       " 'oblivion_staff': 1,\n",
       " 'echo_sabre': 1,\n",
       " 'branches': 2,\n",
       " 'magic_wand': 1,\n",
       " 'enchanted_mango': 1,\n",
       " 'recipe_silver_edge': 1,\n",
       " 'silver_edge': 1,\n",
       " 'ultimate_orb': 1,\n",
       " 'javelin': 1,\n",
       " 'basher': 1,\n",
       " 'recipe_basher': 1,\n",
       " 'ring_of_health': 1,\n",
       " 'recipe_abyssal_blade': 1,\n",
       " 'vanguard': 1,\n",
       " 'abyssal_blade': 1,\n",
       " 'vitality_booster': 1}"
      ]
     },
     "execution_count": 428,
     "metadata": {},
     "output_type": "execute_result"
    }
   ],
   "source": [
    "player['purchase']"
   ]
  },
  {
   "cell_type": "code",
   "execution_count": 106,
   "metadata": {},
   "outputs": [
    {
     "data": {
      "text/plain": [
       "'dcc8416a0b0ddcbff3a28a34a4ce5ec2'"
      ]
     },
     "execution_count": 106,
     "metadata": {},
     "output_type": "execute_result"
    }
   ],
   "source": [
    "player['account_id_hash']"
   ]
  },
  {
   "cell_type": "code",
   "execution_count": 62,
   "metadata": {},
   "outputs": [],
   "source": [
    "new_fea = list(set(list(player.keys())) - set([c[3:] for c in full_df.columns if 'r1_' in c]))"
   ]
  },
  {
   "cell_type": "code",
   "execution_count": 421,
   "metadata": {},
   "outputs": [
    {
     "data": {
      "text/plain": [
       "False"
      ]
     },
     "execution_count": 421,
     "metadata": {},
     "output_type": "execute_result"
    }
   ],
   "source": [
    "player['randomed']"
   ]
  },
  {
   "cell_type": "code",
   "execution_count": 427,
   "metadata": {},
   "outputs": [
    {
     "data": {
      "text/plain": [
       "{'tpscroll': 7,\n",
       " 'quelling_blade': 1,\n",
       " 'tango': 3,\n",
       " 'power_treads': 68,\n",
       " 'shadow_amulet': 2,\n",
       " 'magic_stick': 6,\n",
       " 'invis_sword': 14,\n",
       " 'magic_wand': 10,\n",
       " 'silver_edge': 13}"
      ]
     },
     "execution_count": 427,
     "metadata": {},
     "output_type": "execute_result"
    }
   ],
   "source": [
    "player['item_uses']"
   ]
  },
  {
   "cell_type": "code",
   "execution_count": 417,
   "metadata": {
    "collapsed": true
   },
   "outputs": [
    {
     "data": {
      "text/plain": [
       "['obs_log',\n",
       " 'account_id_hash',\n",
       " 'runes_log',\n",
       " 'ability_uses',\n",
       " 'gold_reasons',\n",
       " 'purchase_log',\n",
       " 'sen_log',\n",
       " 'observers_placed',\n",
       " 'ability_upgrades',\n",
       " 'damage_taken',\n",
       " 'life_state',\n",
       " 'damage',\n",
       " 'max_hero_hit',\n",
       " 'times',\n",
       " 'sen_left_log',\n",
       " 'xp_t',\n",
       " 'buyback_log',\n",
       " 'obs',\n",
       " 'actions',\n",
       " 'killed',\n",
       " 'runes',\n",
       " 'hero_name',\n",
       " 'healing',\n",
       " 'purchase',\n",
       " 'dn_t',\n",
       " 'randomed',\n",
       " 'pings',\n",
       " 'lh_t',\n",
       " 'damage_inflictor',\n",
       " 'player_slot',\n",
       " 'sen',\n",
       " 'obs_left_log',\n",
       " 'killed_by',\n",
       " 'hero_stash',\n",
       " 'nearby_creep_death_count',\n",
       " 'hero_inventory',\n",
       " 'item_uses',\n",
       " 'kill_streaks',\n",
       " 'xp_reasons',\n",
       " 'hero_hits',\n",
       " 'pred_vict',\n",
       " 'gold_t',\n",
       " 'damage_inflictor_received',\n",
       " 'kills_log',\n",
       " 'multi_kills']"
      ]
     },
     "execution_count": 417,
     "metadata": {},
     "output_type": "execute_result"
    }
   ],
   "source": [
    "new_fea"
   ]
  },
  {
   "cell_type": "code",
   "execution_count": 97,
   "metadata": {},
   "outputs": [
    {
     "data": {
      "image/png": "[encoded data removed]",
      "text/plain": [
       "<Figure size 432x288 with 1 Axes>"
      ]
     },
     "metadata": {
      "needs_background": "light"
     },
     "output_type": "display_data"
    }
   ],
   "source": [
    "for player in match['players']:\n",
    "    plt.plot(player['times'], player['lh_t'])\n",
    "    \n",
    "plt.title('XP change for all players');"
   ]
  },
  {
   "cell_type": "code",
   "execution_count": null,
   "metadata": {},
   "outputs": [],
   "source": []
  },
  {
   "cell_type": "markdown",
   "metadata": {
    "_uuid": "1b4f45c1478a3f1574e3d174a5fd14748ebda83c"
   },
   "source": [
    "#### Example: time series for each player's gold."
   ]
  },
  {
   "cell_type": "code",
   "execution_count": 62,
   "metadata": {
    "_uuid": "4fa2367e05b0c8ae6701e61dd0b9f2017b5fc60a"
   },
   "outputs": [],
   "source": [
    "%matplotlib inline\n",
    "from matplotlib import pyplot as plt"
   ]
  },
  {
   "cell_type": "code",
   "execution_count": 63,
   "metadata": {
    "_uuid": "8eba3e7148640a62fa055bd303161a6773a5e0e7"
   },
   "outputs": [
    {
     "data": {
      "image/png": "[encoded data removed]",
      "text/plain": [
       "<Figure size 432x288 with 1 Axes>"
      ]
     },
     "metadata": {
      "needs_background": "light"
     },
     "output_type": "display_data"
    }
   ],
   "source": [
    "for player in match['players']:\n",
    "    plt.plot(player['times'], player['gold_t'])\n",
    "    \n",
    "plt.title('Gold change for all players');"
   ]
  },
  {
   "cell_type": "markdown",
   "metadata": {
    "_uuid": "a4d99ef0ff061b26f25448d08913ee9990fbe475"
   },
   "source": [
    "#### Function to read files with game descriptions\n",
    "\n",
    "The following function `read_matches(filename)`, can be used to read raw data on Dota 2 games.\n",
    "\n",
    "We recommend to install two Python packages: `ujson` and `tqdm`, it'll make the execution faster and "
   ]
  },
  {
   "cell_type": "code",
   "execution_count": 109,
   "metadata": {
    "_uuid": "1fc978d50288806b0b998859c390e60fe42fba56"
   },
   "outputs": [],
   "source": [
    "import os\n",
    "\n",
    "try:\n",
    "    import ujson as json\n",
    "except ModuleNotFoundError:\n",
    "    import json\n",
    "    print ('Please install ujson to read JSON oblects faster')\n",
    "    \n",
    "try:\n",
    "    from tqdm import tqdm_notebook\n",
    "except ModuleNotFoundError:\n",
    "    tqdm_notebook = lambda x: x\n",
    "    print ('Please install tqdm to track progress with Python loops')\n",
    "\n",
    "def read_matches(matches_file):\n",
    "    \n",
    "    MATCHES_COUNT = {\n",
    "        'test_matches.jsonl': 10000,\n",
    "        'train_matches.jsonl': 39675,\n",
    "    }\n",
    "    _, filename = os.path.split(matches_file)\n",
    "    total_matches = MATCHES_COUNT.get(filename)\n",
    "    \n",
    "    with open(matches_file) as fin:\n",
    "        for line in tqdm_notebook(fin, total=total_matches):\n",
    "            yield json.loads(line)"
   ]
  },
  {
   "cell_type": "markdown",
   "metadata": {
    "_uuid": "4008ec8a83b4cbfc7fe1a981cc61574d83d9a29e"
   },
   "source": [
    "#### Reading data in a loop\n",
    "\n",
    "Reading data on all games might take some 2-3 minutes. Thus you'd better stick to the following approach:\n",
    "\n",
    "1. Read a small amount (10-100) of games\n",
    "2. Write code to extract features from these JSON objects\n",
    "3. Make sure the code works fine\n",
    "4. Run the code with all available data\n",
    "5. Save results to a `pickle` file so that you don't need to run all computations from scratch next time "
   ]
  },
  {
   "cell_type": "code",
   "execution_count": 110,
   "metadata": {
    "_uuid": "d47ae0ff04e2c5e04719f6e1be0feeaa4cf2d75a",
    "collapsed": true
   },
   "outputs": [
    {
     "data": {
      "application/vnd.jupyter.widget-view+json": {
       "model_id": "afded690fc8b4a029df99a79b36b3b6d",
       "version_major": 2,
       "version_minor": 0
      },
      "text/plain": [
       "HBox(children=(IntProgress(value=0, max=39675), HTML(value='')))"
      ]
     },
     "metadata": {},
     "output_type": "display_data"
    },
    {
     "ename": "KeyboardInterrupt",
     "evalue": "",
     "output_type": "error",
     "traceback": [
      "\u001b[0;31m---------------------------------------------------------------------------\u001b[0m",
      "\u001b[0;31mKeyboardInterrupt\u001b[0m                         Traceback (most recent call last)",
      "\u001b[0;32m<ipython-input-110-f90148e0ba8d>\u001b[0m in \u001b[0;36m<module>\u001b[0;34m\u001b[0m\n\u001b[1;32m      1\u001b[0m \u001b[0;32mfor\u001b[0m \u001b[0mmatch\u001b[0m \u001b[0;32min\u001b[0m \u001b[0mread_matches\u001b[0m\u001b[0;34m(\u001b[0m\u001b[0mos\u001b[0m\u001b[0;34m.\u001b[0m\u001b[0mpath\u001b[0m\u001b[0;34m.\u001b[0m\u001b[0mjoin\u001b[0m\u001b[0;34m(\u001b[0m\u001b[0mPATH_TO_DATA\u001b[0m\u001b[0;34m,\u001b[0m \u001b[0;34m'train_matches.jsonl'\u001b[0m\u001b[0;34m)\u001b[0m\u001b[0;34m)\u001b[0m\u001b[0;34m:\u001b[0m\u001b[0;34m\u001b[0m\u001b[0;34m\u001b[0m\u001b[0m\n\u001b[0;32m----> 2\u001b[0;31m     \u001b[0mmatch_id_hash\u001b[0m \u001b[0;34m=\u001b[0m \u001b[0mmatch\u001b[0m\u001b[0;34m[\u001b[0m\u001b[0;34m'match_id_hash'\u001b[0m\u001b[0;34m]\u001b[0m\u001b[0;34m\u001b[0m\u001b[0;34m\u001b[0m\u001b[0m\n\u001b[0m\u001b[1;32m      3\u001b[0m     \u001b[0mgame_time\u001b[0m \u001b[0;34m=\u001b[0m \u001b[0mmatch\u001b[0m\u001b[0;34m[\u001b[0m\u001b[0;34m'game_time'\u001b[0m\u001b[0;34m]\u001b[0m\u001b[0;34m\u001b[0m\u001b[0;34m\u001b[0m\u001b[0m\n\u001b[1;32m      4\u001b[0m \u001b[0;34m\u001b[0m\u001b[0m\n\u001b[1;32m      5\u001b[0m     \u001b[0;31m# processing each game\u001b[0m\u001b[0;34m\u001b[0m\u001b[0;34m\u001b[0m\u001b[0;34m\u001b[0m\u001b[0m\n",
      "\u001b[0;31mKeyboardInterrupt\u001b[0m: "
     ]
    }
   ],
   "source": [
    "for match in read_matches(os.path.join(PATH_TO_DATA, 'train_matches.jsonl')):\n",
    "    match_id_hash = match['match_id_hash']\n",
    "    game_time = match['game_time']\n",
    "    \n",
    "    # processing each game\n",
    "    \n",
    "    for player in match['players']:\n",
    "        pass  # processing each player"
   ]
  },
  {
   "cell_type": "markdown",
   "metadata": {
    "_uuid": "fca6a1e2b7c6eae4788d0abcff705396526a3c4a"
   },
   "source": [
    "## Feature engineering"
   ]
  },
  {
   "cell_type": "code",
   "execution_count": 112,
   "metadata": {
    "_uuid": "a9c0e139f42fce6950ec2f33c6812647561475da"
   },
   "outputs": [],
   "source": [
    "def add_new_features(df_features, matches_file):\n",
    "    \n",
    "    # Process raw data and add new features\n",
    "    for match in read_matches(matches_file):\n",
    "        match_id_hash = match['match_id_hash']\n",
    "\n",
    "        # Counting ruined towers for both teams\n",
    "        radiant_tower_kills = 0\n",
    "        dire_tower_kills = 0\n",
    "        for objective in match['objectives']:\n",
    "            if objective['type'] == 'CHAT_MESSAGE_TOWER_KILL':\n",
    "                if objective['team'] == 2:\n",
    "                    radiant_tower_kills += 1\n",
    "                if objective['team'] == 3:\n",
    "                    dire_tower_kills += 1\n",
    "\n",
    "        # Write new features\n",
    "        df_features.loc[match_id_hash, 'radiant_tower_kills'] = radiant_tower_kills\n",
    "        df_features.loc[match_id_hash, 'dire_tower_kills'] = dire_tower_kills\n",
    "        df_features.loc[match_id_hash, 'diff_tower_kills'] = radiant_tower_kills - dire_tower_kills\n",
    "        \n",
    "        # ... here you can add more features ...\n",
    "        "
   ]
  },
  {
   "cell_type": "code",
   "execution_count": 114,
   "metadata": {
    "_uuid": "6dc7d1cda24bc8688ab0df396980d14aefa7af8a"
   },
   "outputs": [
    {
     "data": {
      "application/vnd.jupyter.widget-view+json": {
       "model_id": "154f6ac6962646c887316a819e1458a7",
       "version_major": 2,
       "version_minor": 0
      },
      "text/plain": [
       "HBox(children=(IntProgress(value=0, max=39675), HTML(value='')))"
      ]
     },
     "metadata": {},
     "output_type": "display_data"
    }
   ],
   "source": [
    "# copy the dataframe with features\n",
    "df_train_features_extended = train_df.copy()\n",
    "\n",
    "# add new features\n",
    "add_new_features(df_train_features_extended, \n",
    "                 os.path.join(PATH_TO_DATA, \n",
    "                              'train_matches.jsonl'))"
   ]
  },
  {
   "cell_type": "markdown",
   "metadata": {
    "_uuid": "e7c67141278ba210dc18f4a4b75e5147159a44c9"
   },
   "source": [
    "We see new features added to the right."
   ]
  },
  {
   "cell_type": "code",
   "execution_count": 147,
   "metadata": {
    "_uuid": "a09555f39a291782b185cca7e58159689c25d561",
    "collapsed": true
   },
   "outputs": [
    {
     "data": {
      "text/html": [
       "<div>\n",
       "<style scoped>\n",
       "    .dataframe tbody tr th:only-of-type {\n",
       "        vertical-align: middle;\n",
       "    }\n",
       "\n",
       "    .dataframe tbody tr th {\n",
       "        vertical-align: top;\n",
       "    }\n",
       "\n",
       "    .dataframe thead th {\n",
       "        text-align: right;\n",
       "    }\n",
       "</style>\n",
       "<table border=\"1\" class=\"dataframe\">\n",
       "  <thead>\n",
       "    <tr style=\"text-align: right;\">\n",
       "      <th></th>\n",
       "      <th>radiant_tower_kills</th>\n",
       "      <th>dire_tower_kills</th>\n",
       "      <th>diff_tower_kills</th>\n",
       "    </tr>\n",
       "    <tr>\n",
       "      <th>match_id_hash</th>\n",
       "      <th></th>\n",
       "      <th></th>\n",
       "      <th></th>\n",
       "    </tr>\n",
       "  </thead>\n",
       "  <tbody>\n",
       "    <tr>\n",
       "      <th>a400b8f29dece5f4d266f49f1ae2e98a</th>\n",
       "      <td>0.0</td>\n",
       "      <td>0.0</td>\n",
       "      <td>0.0</td>\n",
       "    </tr>\n",
       "    <tr>\n",
       "      <th>b9c57c450ce74a2af79c9ce96fac144d</th>\n",
       "      <td>2.0</td>\n",
       "      <td>0.0</td>\n",
       "      <td>2.0</td>\n",
       "    </tr>\n",
       "    <tr>\n",
       "      <th>6db558535151ea18ca70a6892197db41</th>\n",
       "      <td>0.0</td>\n",
       "      <td>0.0</td>\n",
       "      <td>0.0</td>\n",
       "    </tr>\n",
       "    <tr>\n",
       "      <th>46a0ddce8f7ed2a8d9bd5edcbb925682</th>\n",
       "      <td>0.0</td>\n",
       "      <td>0.0</td>\n",
       "      <td>0.0</td>\n",
       "    </tr>\n",
       "    <tr>\n",
       "      <th>b1b35ff97723d9b7ade1c9c3cf48f770</th>\n",
       "      <td>0.0</td>\n",
       "      <td>0.0</td>\n",
       "      <td>0.0</td>\n",
       "    </tr>\n",
       "    <tr>\n",
       "      <th>19c39fe2af2b547e48708ca005c6ae74</th>\n",
       "      <td>0.0</td>\n",
       "      <td>0.0</td>\n",
       "      <td>0.0</td>\n",
       "    </tr>\n",
       "    <tr>\n",
       "      <th>c96d629dc0c39f0c616d1949938a6ba6</th>\n",
       "      <td>0.0</td>\n",
       "      <td>0.0</td>\n",
       "      <td>0.0</td>\n",
       "    </tr>\n",
       "    <tr>\n",
       "      <th>156c88bff4e9c4668b0f53df3d870f1b</th>\n",
       "      <td>0.0</td>\n",
       "      <td>1.0</td>\n",
       "      <td>-1.0</td>\n",
       "    </tr>\n",
       "    <tr>\n",
       "      <th>df50f738c454d430a33b2bf90cb9ef1a</th>\n",
       "      <td>0.0</td>\n",
       "      <td>0.0</td>\n",
       "      <td>0.0</td>\n",
       "    </tr>\n",
       "    <tr>\n",
       "      <th>7469e9440ea3d19b211a484647c7126e</th>\n",
       "      <td>4.0</td>\n",
       "      <td>3.0</td>\n",
       "      <td>1.0</td>\n",
       "    </tr>\n",
       "    <tr>\n",
       "      <th>0aa1c6d7630433a93fe42da5ac810368</th>\n",
       "      <td>3.0</td>\n",
       "      <td>5.0</td>\n",
       "      <td>-2.0</td>\n",
       "    </tr>\n",
       "    <tr>\n",
       "      <th>892b5d40992e4b334e159f99b2bb55e6</th>\n",
       "      <td>0.0</td>\n",
       "      <td>0.0</td>\n",
       "      <td>0.0</td>\n",
       "    </tr>\n",
       "    <tr>\n",
       "      <th>44eb0c077ca68678bb9bfead29e9c455</th>\n",
       "      <td>1.0</td>\n",
       "      <td>4.0</td>\n",
       "      <td>-3.0</td>\n",
       "    </tr>\n",
       "    <tr>\n",
       "      <th>eda82a5a0ae96848e73929c643925633</th>\n",
       "      <td>0.0</td>\n",
       "      <td>1.0</td>\n",
       "      <td>-1.0</td>\n",
       "    </tr>\n",
       "    <tr>\n",
       "      <th>ab3cc6ccac661a1385e73a2e9f21313a</th>\n",
       "      <td>1.0</td>\n",
       "      <td>0.0</td>\n",
       "      <td>1.0</td>\n",
       "    </tr>\n",
       "    <tr>\n",
       "      <th>a3c3892648b873bb869dd81ca0f62286</th>\n",
       "      <td>0.0</td>\n",
       "      <td>0.0</td>\n",
       "      <td>0.0</td>\n",
       "    </tr>\n",
       "    <tr>\n",
       "      <th>34c81a8faede0d8f1f87dcc6ee824658</th>\n",
       "      <td>1.0</td>\n",
       "      <td>4.0</td>\n",
       "      <td>-3.0</td>\n",
       "    </tr>\n",
       "    <tr>\n",
       "      <th>5feece770ca79e5e8cd8052198b3f533</th>\n",
       "      <td>7.0</td>\n",
       "      <td>7.0</td>\n",
       "      <td>0.0</td>\n",
       "    </tr>\n",
       "    <tr>\n",
       "      <th>54aaab1cb8cc5df3c253641618673266</th>\n",
       "      <td>0.0</td>\n",
       "      <td>0.0</td>\n",
       "      <td>0.0</td>\n",
       "    </tr>\n",
       "    <tr>\n",
       "      <th>c95069179039952da9db7635ee22972b</th>\n",
       "      <td>7.0</td>\n",
       "      <td>4.0</td>\n",
       "      <td>3.0</td>\n",
       "    </tr>\n",
       "    <tr>\n",
       "      <th>8f56cc2468ba5c37edb79f3a7b4af6e6</th>\n",
       "      <td>3.0</td>\n",
       "      <td>6.0</td>\n",
       "      <td>-3.0</td>\n",
       "    </tr>\n",
       "    <tr>\n",
       "      <th>171d8515f371cdf5d03c44575cee70c7</th>\n",
       "      <td>0.0</td>\n",
       "      <td>0.0</td>\n",
       "      <td>0.0</td>\n",
       "    </tr>\n",
       "    <tr>\n",
       "      <th>44cdded6d3311134563f743eb77685b2</th>\n",
       "      <td>0.0</td>\n",
       "      <td>1.0</td>\n",
       "      <td>-1.0</td>\n",
       "    </tr>\n",
       "    <tr>\n",
       "      <th>086e5ed8fee6258a3b6ed9127f833573</th>\n",
       "      <td>7.0</td>\n",
       "      <td>3.0</td>\n",
       "      <td>4.0</td>\n",
       "    </tr>\n",
       "    <tr>\n",
       "      <th>b6f39b49177535c9417eecd8c696674d</th>\n",
       "      <td>0.0</td>\n",
       "      <td>0.0</td>\n",
       "      <td>0.0</td>\n",
       "    </tr>\n",
       "    <tr>\n",
       "      <th>8ca9e390d39160645953a682a8d6f225</th>\n",
       "      <td>0.0</td>\n",
       "      <td>0.0</td>\n",
       "      <td>0.0</td>\n",
       "    </tr>\n",
       "    <tr>\n",
       "      <th>4b6e4e511d399180776d0f23984466b2</th>\n",
       "      <td>3.0</td>\n",
       "      <td>1.0</td>\n",
       "      <td>2.0</td>\n",
       "    </tr>\n",
       "    <tr>\n",
       "      <th>fb4860c8425b62dbe413214beb6650c8</th>\n",
       "      <td>1.0</td>\n",
       "      <td>1.0</td>\n",
       "      <td>0.0</td>\n",
       "    </tr>\n",
       "    <tr>\n",
       "      <th>06b147af8683a7973e6f431c412448b7</th>\n",
       "      <td>0.0</td>\n",
       "      <td>0.0</td>\n",
       "      <td>0.0</td>\n",
       "    </tr>\n",
       "    <tr>\n",
       "      <th>7d30c0cc9a54fbf92d3fcddcab73d794</th>\n",
       "      <td>2.0</td>\n",
       "      <td>2.0</td>\n",
       "      <td>0.0</td>\n",
       "    </tr>\n",
       "    <tr>\n",
       "      <th>...</th>\n",
       "      <td>...</td>\n",
       "      <td>...</td>\n",
       "      <td>...</td>\n",
       "    </tr>\n",
       "    <tr>\n",
       "      <th>be66aef962bced96b2a20d9c91015935</th>\n",
       "      <td>7.0</td>\n",
       "      <td>3.0</td>\n",
       "      <td>4.0</td>\n",
       "    </tr>\n",
       "    <tr>\n",
       "      <th>a4839b3e0a673d641cea1d73c6cf1234</th>\n",
       "      <td>5.0</td>\n",
       "      <td>1.0</td>\n",
       "      <td>4.0</td>\n",
       "    </tr>\n",
       "    <tr>\n",
       "      <th>6e3f0a92326eba6e364d93b65d204948</th>\n",
       "      <td>0.0</td>\n",
       "      <td>0.0</td>\n",
       "      <td>0.0</td>\n",
       "    </tr>\n",
       "    <tr>\n",
       "      <th>8a44a6d4df7db7c931786bd91ec269ae</th>\n",
       "      <td>0.0</td>\n",
       "      <td>0.0</td>\n",
       "      <td>0.0</td>\n",
       "    </tr>\n",
       "    <tr>\n",
       "      <th>e9fae332a6cf22720804793c586b25f1</th>\n",
       "      <td>8.0</td>\n",
       "      <td>1.0</td>\n",
       "      <td>7.0</td>\n",
       "    </tr>\n",
       "    <tr>\n",
       "      <th>e3a5efa04b207ea1e0c6d0d6e9618722</th>\n",
       "      <td>0.0</td>\n",
       "      <td>1.0</td>\n",
       "      <td>-1.0</td>\n",
       "    </tr>\n",
       "    <tr>\n",
       "      <th>b91cb6f78b5a5c05442a4e44be337cd8</th>\n",
       "      <td>0.0</td>\n",
       "      <td>0.0</td>\n",
       "      <td>0.0</td>\n",
       "    </tr>\n",
       "    <tr>\n",
       "      <th>404297d22aea63bfe5533048296e27bf</th>\n",
       "      <td>4.0</td>\n",
       "      <td>9.0</td>\n",
       "      <td>-5.0</td>\n",
       "    </tr>\n",
       "    <tr>\n",
       "      <th>340f64b9f81cf6a803619fd1e04abe0f</th>\n",
       "      <td>0.0</td>\n",
       "      <td>0.0</td>\n",
       "      <td>0.0</td>\n",
       "    </tr>\n",
       "    <tr>\n",
       "      <th>5b938eae0a3ad2038b4525485f918e12</th>\n",
       "      <td>2.0</td>\n",
       "      <td>1.0</td>\n",
       "      <td>1.0</td>\n",
       "    </tr>\n",
       "    <tr>\n",
       "      <th>800ae4c654831560ef06be3d8805e3df</th>\n",
       "      <td>0.0</td>\n",
       "      <td>1.0</td>\n",
       "      <td>-1.0</td>\n",
       "    </tr>\n",
       "    <tr>\n",
       "      <th>c5a97ba8a3f13f4a6f65fd9522e1ec34</th>\n",
       "      <td>0.0</td>\n",
       "      <td>4.0</td>\n",
       "      <td>-4.0</td>\n",
       "    </tr>\n",
       "    <tr>\n",
       "      <th>e99a2da75301c4c1d9d85e936efc0cb8</th>\n",
       "      <td>0.0</td>\n",
       "      <td>0.0</td>\n",
       "      <td>0.0</td>\n",
       "    </tr>\n",
       "    <tr>\n",
       "      <th>c7186b7a496d958007658aa5274bd24c</th>\n",
       "      <td>0.0</td>\n",
       "      <td>0.0</td>\n",
       "      <td>0.0</td>\n",
       "    </tr>\n",
       "    <tr>\n",
       "      <th>635d82c0867c9cfb04ee5587f1258263</th>\n",
       "      <td>0.0</td>\n",
       "      <td>0.0</td>\n",
       "      <td>0.0</td>\n",
       "    </tr>\n",
       "    <tr>\n",
       "      <th>71aa1b3585ead73ef3d09e435e454df5</th>\n",
       "      <td>0.0</td>\n",
       "      <td>0.0</td>\n",
       "      <td>0.0</td>\n",
       "    </tr>\n",
       "    <tr>\n",
       "      <th>8d1a9d95c64bf8a5484189978f0fbebb</th>\n",
       "      <td>0.0</td>\n",
       "      <td>0.0</td>\n",
       "      <td>0.0</td>\n",
       "    </tr>\n",
       "    <tr>\n",
       "      <th>03f683fed8cf6f03b735e2ee2a942698</th>\n",
       "      <td>0.0</td>\n",
       "      <td>0.0</td>\n",
       "      <td>0.0</td>\n",
       "    </tr>\n",
       "    <tr>\n",
       "      <th>c2911c082180c432b0c62922a73dbbc9</th>\n",
       "      <td>0.0</td>\n",
       "      <td>0.0</td>\n",
       "      <td>0.0</td>\n",
       "    </tr>\n",
       "    <tr>\n",
       "      <th>7a8c2cf093d9bd43b5f51f7a890df1e7</th>\n",
       "      <td>0.0</td>\n",
       "      <td>0.0</td>\n",
       "      <td>0.0</td>\n",
       "    </tr>\n",
       "    <tr>\n",
       "      <th>54a122e9c4441dfd976862cd67d17be8</th>\n",
       "      <td>0.0</td>\n",
       "      <td>0.0</td>\n",
       "      <td>0.0</td>\n",
       "    </tr>\n",
       "    <tr>\n",
       "      <th>06e2b42495855647830ccc6d466f913c</th>\n",
       "      <td>3.0</td>\n",
       "      <td>7.0</td>\n",
       "      <td>-4.0</td>\n",
       "    </tr>\n",
       "    <tr>\n",
       "      <th>b794aa55646841a03c7783226e6f6bc8</th>\n",
       "      <td>4.0</td>\n",
       "      <td>8.0</td>\n",
       "      <td>-4.0</td>\n",
       "    </tr>\n",
       "    <tr>\n",
       "      <th>308faee28efee2e66b39f9f2ba6ea9cf</th>\n",
       "      <td>6.0</td>\n",
       "      <td>4.0</td>\n",
       "      <td>2.0</td>\n",
       "    </tr>\n",
       "    <tr>\n",
       "      <th>6066cc7417b43c749d551e123d00f0c8</th>\n",
       "      <td>2.0</td>\n",
       "      <td>1.0</td>\n",
       "      <td>1.0</td>\n",
       "    </tr>\n",
       "    <tr>\n",
       "      <th>defd0caeed6ea83d7d5fbdec013fe7d1</th>\n",
       "      <td>3.0</td>\n",
       "      <td>4.0</td>\n",
       "      <td>-1.0</td>\n",
       "    </tr>\n",
       "    <tr>\n",
       "      <th>bc7a87ed5f9c2bca55f9f7a93da0b0c5</th>\n",
       "      <td>0.0</td>\n",
       "      <td>0.0</td>\n",
       "      <td>0.0</td>\n",
       "    </tr>\n",
       "    <tr>\n",
       "      <th>e2ca68ac1a6847f4a37f6c9c8ee8695b</th>\n",
       "      <td>0.0</td>\n",
       "      <td>0.0</td>\n",
       "      <td>0.0</td>\n",
       "    </tr>\n",
       "    <tr>\n",
       "      <th>47ad6454ede66c1c78fdaa9391dfc556</th>\n",
       "      <td>6.0</td>\n",
       "      <td>3.0</td>\n",
       "      <td>3.0</td>\n",
       "    </tr>\n",
       "    <tr>\n",
       "      <th>9928dfde50efcbdb2055da23dcdbc101</th>\n",
       "      <td>3.0</td>\n",
       "      <td>5.0</td>\n",
       "      <td>-2.0</td>\n",
       "    </tr>\n",
       "  </tbody>\n",
       "</table>\n",
       "<p>39675 rows × 3 columns</p>\n",
       "</div>"
      ],
      "text/plain": [
       "                                  radiant_tower_kills  dire_tower_kills  \\\n",
       "match_id_hash                                                             \n",
       "a400b8f29dece5f4d266f49f1ae2e98a                  0.0               0.0   \n",
       "b9c57c450ce74a2af79c9ce96fac144d                  2.0               0.0   \n",
       "6db558535151ea18ca70a6892197db41                  0.0               0.0   \n",
       "46a0ddce8f7ed2a8d9bd5edcbb925682                  0.0               0.0   \n",
       "b1b35ff97723d9b7ade1c9c3cf48f770                  0.0               0.0   \n",
       "19c39fe2af2b547e48708ca005c6ae74                  0.0               0.0   \n",
       "c96d629dc0c39f0c616d1949938a6ba6                  0.0               0.0   \n",
       "156c88bff4e9c4668b0f53df3d870f1b                  0.0               1.0   \n",
       "df50f738c454d430a33b2bf90cb9ef1a                  0.0               0.0   \n",
       "7469e9440ea3d19b211a484647c7126e                  4.0               3.0   \n",
       "0aa1c6d7630433a93fe42da5ac810368                  3.0               5.0   \n",
       "892b5d40992e4b334e159f99b2bb55e6                  0.0               0.0   \n",
       "44eb0c077ca68678bb9bfead29e9c455                  1.0               4.0   \n",
       "eda82a5a0ae96848e73929c643925633                  0.0               1.0   \n",
       "ab3cc6ccac661a1385e73a2e9f21313a                  1.0               0.0   \n",
       "a3c3892648b873bb869dd81ca0f62286                  0.0               0.0   \n",
       "34c81a8faede0d8f1f87dcc6ee824658                  1.0               4.0   \n",
       "5feece770ca79e5e8cd8052198b3f533                  7.0               7.0   \n",
       "54aaab1cb8cc5df3c253641618673266                  0.0               0.0   \n",
       "c95069179039952da9db7635ee22972b                  7.0               4.0   \n",
       "8f56cc2468ba5c37edb79f3a7b4af6e6                  3.0               6.0   \n",
       "171d8515f371cdf5d03c44575cee70c7                  0.0               0.0   \n",
       "44cdded6d3311134563f743eb77685b2                  0.0               1.0   \n",
       "086e5ed8fee6258a3b6ed9127f833573                  7.0               3.0   \n",
       "b6f39b49177535c9417eecd8c696674d                  0.0               0.0   \n",
       "8ca9e390d39160645953a682a8d6f225                  0.0               0.0   \n",
       "4b6e4e511d399180776d0f23984466b2                  3.0               1.0   \n",
       "fb4860c8425b62dbe413214beb6650c8                  1.0               1.0   \n",
       "06b147af8683a7973e6f431c412448b7                  0.0               0.0   \n",
       "7d30c0cc9a54fbf92d3fcddcab73d794                  2.0               2.0   \n",
       "...                                               ...               ...   \n",
       "be66aef962bced96b2a20d9c91015935                  7.0               3.0   \n",
       "a4839b3e0a673d641cea1d73c6cf1234                  5.0               1.0   \n",
       "6e3f0a92326eba6e364d93b65d204948                  0.0               0.0   \n",
       "8a44a6d4df7db7c931786bd91ec269ae                  0.0               0.0   \n",
       "e9fae332a6cf22720804793c586b25f1                  8.0               1.0   \n",
       "e3a5efa04b207ea1e0c6d0d6e9618722                  0.0               1.0   \n",
       "b91cb6f78b5a5c05442a4e44be337cd8                  0.0               0.0   \n",
       "404297d22aea63bfe5533048296e27bf                  4.0               9.0   \n",
       "340f64b9f81cf6a803619fd1e04abe0f                  0.0               0.0   \n",
       "5b938eae0a3ad2038b4525485f918e12                  2.0               1.0   \n",
       "800ae4c654831560ef06be3d8805e3df                  0.0               1.0   \n",
       "c5a97ba8a3f13f4a6f65fd9522e1ec34                  0.0               4.0   \n",
       "e99a2da75301c4c1d9d85e936efc0cb8                  0.0               0.0   \n",
       "c7186b7a496d958007658aa5274bd24c                  0.0               0.0   \n",
       "635d82c0867c9cfb04ee5587f1258263                  0.0               0.0   \n",
       "71aa1b3585ead73ef3d09e435e454df5                  0.0               0.0   \n",
       "8d1a9d95c64bf8a5484189978f0fbebb                  0.0               0.0   \n",
       "03f683fed8cf6f03b735e2ee2a942698                  0.0               0.0   \n",
       "c2911c082180c432b0c62922a73dbbc9                  0.0               0.0   \n",
       "7a8c2cf093d9bd43b5f51f7a890df1e7                  0.0               0.0   \n",
       "54a122e9c4441dfd976862cd67d17be8                  0.0               0.0   \n",
       "06e2b42495855647830ccc6d466f913c                  3.0               7.0   \n",
       "b794aa55646841a03c7783226e6f6bc8                  4.0               8.0   \n",
       "308faee28efee2e66b39f9f2ba6ea9cf                  6.0               4.0   \n",
       "6066cc7417b43c749d551e123d00f0c8                  2.0               1.0   \n",
       "defd0caeed6ea83d7d5fbdec013fe7d1                  3.0               4.0   \n",
       "bc7a87ed5f9c2bca55f9f7a93da0b0c5                  0.0               0.0   \n",
       "e2ca68ac1a6847f4a37f6c9c8ee8695b                  0.0               0.0   \n",
       "47ad6454ede66c1c78fdaa9391dfc556                  6.0               3.0   \n",
       "9928dfde50efcbdb2055da23dcdbc101                  3.0               5.0   \n",
       "\n",
       "                                  diff_tower_kills  \n",
       "match_id_hash                                       \n",
       "a400b8f29dece5f4d266f49f1ae2e98a               0.0  \n",
       "b9c57c450ce74a2af79c9ce96fac144d               2.0  \n",
       "6db558535151ea18ca70a6892197db41               0.0  \n",
       "46a0ddce8f7ed2a8d9bd5edcbb925682               0.0  \n",
       "b1b35ff97723d9b7ade1c9c3cf48f770               0.0  \n",
       "19c39fe2af2b547e48708ca005c6ae74               0.0  \n",
       "c96d629dc0c39f0c616d1949938a6ba6               0.0  \n",
       "156c88bff4e9c4668b0f53df3d870f1b              -1.0  \n",
       "df50f738c454d430a33b2bf90cb9ef1a               0.0  \n",
       "7469e9440ea3d19b211a484647c7126e               1.0  \n",
       "0aa1c6d7630433a93fe42da5ac810368              -2.0  \n",
       "892b5d40992e4b334e159f99b2bb55e6               0.0  \n",
       "44eb0c077ca68678bb9bfead29e9c455              -3.0  \n",
       "eda82a5a0ae96848e73929c643925633              -1.0  \n",
       "ab3cc6ccac661a1385e73a2e9f21313a               1.0  \n",
       "a3c3892648b873bb869dd81ca0f62286               0.0  \n",
       "34c81a8faede0d8f1f87dcc6ee824658              -3.0  \n",
       "5feece770ca79e5e8cd8052198b3f533               0.0  \n",
       "54aaab1cb8cc5df3c253641618673266               0.0  \n",
       "c95069179039952da9db7635ee22972b               3.0  \n",
       "8f56cc2468ba5c37edb79f3a7b4af6e6              -3.0  \n",
       "171d8515f371cdf5d03c44575cee70c7               0.0  \n",
       "44cdded6d3311134563f743eb77685b2              -1.0  \n",
       "086e5ed8fee6258a3b6ed9127f833573               4.0  \n",
       "b6f39b49177535c9417eecd8c696674d               0.0  \n",
       "8ca9e390d39160645953a682a8d6f225               0.0  \n",
       "4b6e4e511d399180776d0f23984466b2               2.0  \n",
       "fb4860c8425b62dbe413214beb6650c8               0.0  \n",
       "06b147af8683a7973e6f431c412448b7               0.0  \n",
       "7d30c0cc9a54fbf92d3fcddcab73d794               0.0  \n",
       "...                                            ...  \n",
       "be66aef962bced96b2a20d9c91015935               4.0  \n",
       "a4839b3e0a673d641cea1d73c6cf1234               4.0  \n",
       "6e3f0a92326eba6e364d93b65d204948               0.0  \n",
       "8a44a6d4df7db7c931786bd91ec269ae               0.0  \n",
       "e9fae332a6cf22720804793c586b25f1               7.0  \n",
       "e3a5efa04b207ea1e0c6d0d6e9618722              -1.0  \n",
       "b91cb6f78b5a5c05442a4e44be337cd8               0.0  \n",
       "404297d22aea63bfe5533048296e27bf              -5.0  \n",
       "340f64b9f81cf6a803619fd1e04abe0f               0.0  \n",
       "5b938eae0a3ad2038b4525485f918e12               1.0  \n",
       "800ae4c654831560ef06be3d8805e3df              -1.0  \n",
       "c5a97ba8a3f13f4a6f65fd9522e1ec34              -4.0  \n",
       "e99a2da75301c4c1d9d85e936efc0cb8               0.0  \n",
       "c7186b7a496d958007658aa5274bd24c               0.0  \n",
       "635d82c0867c9cfb04ee5587f1258263               0.0  \n",
       "71aa1b3585ead73ef3d09e435e454df5               0.0  \n",
       "8d1a9d95c64bf8a5484189978f0fbebb               0.0  \n",
       "03f683fed8cf6f03b735e2ee2a942698               0.0  \n",
       "c2911c082180c432b0c62922a73dbbc9               0.0  \n",
       "7a8c2cf093d9bd43b5f51f7a890df1e7               0.0  \n",
       "54a122e9c4441dfd976862cd67d17be8               0.0  \n",
       "06e2b42495855647830ccc6d466f913c              -4.0  \n",
       "b794aa55646841a03c7783226e6f6bc8              -4.0  \n",
       "308faee28efee2e66b39f9f2ba6ea9cf               2.0  \n",
       "6066cc7417b43c749d551e123d00f0c8               1.0  \n",
       "defd0caeed6ea83d7d5fbdec013fe7d1              -1.0  \n",
       "bc7a87ed5f9c2bca55f9f7a93da0b0c5               0.0  \n",
       "e2ca68ac1a6847f4a37f6c9c8ee8695b               0.0  \n",
       "47ad6454ede66c1c78fdaa9391dfc556               3.0  \n",
       "9928dfde50efcbdb2055da23dcdbc101              -2.0  \n",
       "\n",
       "[39675 rows x 3 columns]"
      ]
     },
     "execution_count": 147,
     "metadata": {},
     "output_type": "execute_result"
    }
   ],
   "source": [
    "df_train_features_extended.iloc[:, -3:]"
   ]
  },
  {
   "cell_type": "markdown",
   "metadata": {
    "_uuid": "07076a419cbecd481d206a3924d4db4a6735ae52"
   },
   "source": [
    "#### Evaluating new features\n",
    "\n",
    "Let's run cross-validation with a fixed model but with two different datasets:\n",
    "\n",
    "1. with features built by organizers (base)\n",
    "2. with new features that we've added (extended)"
   ]
  },
  {
   "cell_type": "code",
   "execution_count": 35,
   "metadata": {
    "_uuid": "14b4f56ff1479c21917e067e4bed4bd0fd604086"
   },
   "outputs": [
    {
     "name": "stderr",
     "output_type": "stream",
     "text": [
      "/opt/conda/lib/python3.6/site-packages/sklearn/externals/joblib/externals/loky/process_executor.py:706: UserWarning: A worker stopped while some jobs were given to the executor. This can be caused by a too short worker timeout or by a memory leak.\n",
      "  \"timeout or by a memory leak.\", UserWarning\n"
     ]
    },
    {
     "name": "stdout",
     "output_type": "stream",
     "text": [
      "CPU times: user 156 ms, sys: 300 ms, total: 456 ms\n",
      "Wall time: 1min 30s\n"
     ]
    }
   ],
   "source": [
    "%%time\n",
    "\n",
    "from sklearn.ensemble import RandomForestClassifier\n",
    "\n",
    "model = RandomForestClassifier(n_estimators=100, n_jobs=4, random_state=17)\n",
    "\n",
    "cv_scores_base = cross_val_score(model, X, y, cv=cv, scoring='roc_auc', n_jobs=-1)\n",
    "cv_scores_extended = cross_val_score(model, df_train_features_extended.values, y, \n",
    "                                     cv=cv, scoring='roc_auc', n_jobs=-1)"
   ]
  },
  {
   "cell_type": "code",
   "execution_count": 36,
   "metadata": {
    "_uuid": "47613ffbe2de38dbfbf20959990f0df98c32043c"
   },
   "outputs": [
    {
     "name": "stdout",
     "output_type": "stream",
     "text": [
      "Base features: mean=0.7795738699757455 scores=[0.77723183 0.78656801 0.78004904 0.77732062 0.77669984]\n",
      "Extended features: mean=0.7862340339233831 scores=[0.78570687 0.79044313 0.78708931 0.78227352 0.78565735]\n"
     ]
    }
   ],
   "source": [
    "print('Base features: mean={} scores={}'.format(cv_scores_base.mean(), \n",
    "                                                cv_scores_base))\n",
    "print('Extended features: mean={} scores={}'.format(cv_scores_extended.mean(), \n",
    "                                                    cv_scores_extended))"
   ]
  },
  {
   "cell_type": "code",
   "execution_count": 37,
   "metadata": {
    "_uuid": "4af6c9646fdbfb393fd81fb1d34445ed88dc0d7c"
   },
   "outputs": [
    {
     "data": {
      "text/plain": [
       "array([ True,  True,  True,  True,  True])"
      ]
     },
     "execution_count": 37,
     "metadata": {},
     "output_type": "execute_result"
    }
   ],
   "source": [
    "cv_scores_extended > cv_scores_base"
   ]
  },
  {
   "cell_type": "markdown",
   "metadata": {
    "_uuid": "ca0c4a713dceb7837a4f47f0f39bfdda702d9fe2"
   },
   "source": [
    "As we see, `RandomForestClassifier` shows better cross-validation results in case of the extended dataset. Looks reasonable, that's what we build features for."
   ]
  },
  {
   "cell_type": "markdown",
   "metadata": {
    "_uuid": "423f4d57a418fb4292a856f629fceda01711a631"
   },
   "source": [
    "#### New submission"
   ]
  },
  {
   "cell_type": "code",
   "execution_count": 38,
   "metadata": {
    "_uuid": "a4e6149a632036e73f91c167ce4ad22d8d28a7f8"
   },
   "outputs": [
    {
     "data": {
      "application/vnd.jupyter.widget-view+json": {
       "model_id": "5e648871b6c74da0a3f7a87aa5406785",
       "version_major": 2,
       "version_minor": 0
      },
      "text/plain": [
       "HBox(children=(IntProgress(value=0, max=10000), HTML(value='')))"
      ]
     },
     "metadata": {},
     "output_type": "display_data"
    },
    {
     "name": "stdout",
     "output_type": "stream",
     "text": [
      "\n",
      "CPU times: user 28.8 s, sys: 692 ms, total: 29.5 s\n",
      "Wall time: 29.2 s\n"
     ]
    }
   ],
   "source": [
    "%%time\n",
    "# Build the same features for the test set\n",
    "df_test_features_extended = df_test_features.copy()\n",
    "add_new_features(df_test_features_extended, \n",
    "                 os.path.join(PATH_TO_DATA, 'test_matches.jsonl'))"
   ]
  },
  {
   "cell_type": "code",
   "execution_count": 39,
   "metadata": {
    "_uuid": "7f672377fb6b06b19ce2192f9f53be41bd39feb8"
   },
   "outputs": [],
   "source": [
    "model = RandomForestClassifier(n_estimators=100, n_jobs=4, random_state=17)\n",
    "model.fit(X, y)\n",
    "df_submission_base = pd.DataFrame(\n",
    "    {'radiant_win_prob': model.predict_proba(df_test_features.values)[:, 1]}, \n",
    "    index=df_test_features.index,\n",
    ")\n",
    "df_submission_base.to_csv('submission_base_rf.csv')"
   ]
  },
  {
   "cell_type": "code",
   "execution_count": 40,
   "metadata": {
    "_uuid": "e9caad309603522b61973b8f1d1c66ad77a29a06"
   },
   "outputs": [],
   "source": [
    "model_extended = RandomForestClassifier(n_estimators=100, n_jobs=4, random_state=17)\n",
    "model_extended.fit(df_train_features_extended.values, y)\n",
    "df_submission_extended = pd.DataFrame(\n",
    "    {'radiant_win_prob': model_extended.predict_proba(df_test_features_extended.values)[:, 1]}, \n",
    "    index=df_test_features.index,\n",
    ")\n",
    "df_submission_extended.to_csv('submission_extended_rf.csv')"
   ]
  },
  {
   "cell_type": "code",
   "execution_count": 41,
   "metadata": {},
   "outputs": [],
   "source": [
    "# this one will be used as a final submission in this kernel\n",
    "!cp submission_extended_rf.csv submission.csv"
   ]
  },
  {
   "cell_type": "markdown",
   "metadata": {
    "_uuid": "7c90b7da55ba79c13d25ac030400036f98b87492"
   },
   "source": [
    "## How to build initial features from scratch\n",
    "\n",
    "Now we diclose the code that we used to build initial features `train_features.csv` and `test_features.csv`. You can modify the following code to add more features.\n",
    "\n",
    "In a nutshell:\n",
    "\n",
    "1. the  `extract_features_csv(match)` function extracts features from game descriptions and writes them into a dictionary\n",
    "2. the `extract_targets_csv(match, targets)` function extracts the target variable `radiant_win`\n",
    "3. iterating through the file with raw data, we collect all features\n",
    "4. with `pandas.DataFrame.from_records()` we create dataframes with new features"
   ]
  },
  {
   "cell_type": "code",
   "execution_count": 42,
   "metadata": {
    "_uuid": "7a786e30a4266f8e076972cf3657765dd2339f2f"
   },
   "outputs": [],
   "source": [
    "import collections\n",
    "\n",
    "MATCH_FEATURES = [\n",
    "    ('game_time', lambda m: m['game_time']),\n",
    "    ('game_mode', lambda m: m['game_mode']),\n",
    "    ('lobby_type', lambda m: m['lobby_type']),\n",
    "    ('objectives_len', lambda m: len(m['objectives'])),\n",
    "    ('chat_len', lambda m: len(m['chat'])),\n",
    "]\n",
    "\n",
    "PLAYER_FIELDS = [\n",
    "    'hero_id',\n",
    "    \n",
    "    'kills',\n",
    "    'deaths',\n",
    "    'assists',\n",
    "    'denies',\n",
    "    \n",
    "    'gold',\n",
    "    'lh',\n",
    "    'xp',\n",
    "    'health',\n",
    "    'max_health',\n",
    "    'max_mana',\n",
    "    'level',\n",
    "\n",
    "    'x',\n",
    "    'y',\n",
    "    \n",
    "    'stuns',\n",
    "    'creeps_stacked',\n",
    "    'camps_stacked',\n",
    "    'rune_pickups',\n",
    "    'firstblood_claimed',\n",
    "    'teamfight_participation',\n",
    "    'towers_killed',\n",
    "    'roshans_killed',\n",
    "    'obs_placed',\n",
    "    'sen_placed',\n",
    "]\n",
    "\n",
    "def extract_features_csv(match):\n",
    "    row = [\n",
    "        ('match_id_hash', match['match_id_hash']),\n",
    "    ]\n",
    "    \n",
    "    for field, f in MATCH_FEATURES:\n",
    "        row.append((field, f(match)))\n",
    "        \n",
    "    for slot, player in enumerate(match['players']):\n",
    "        if slot < 5:\n",
    "            player_name = 'r%d' % (slot + 1)\n",
    "        else:\n",
    "            player_name = 'd%d' % (slot - 4)\n",
    "\n",
    "        for field in PLAYER_FIELDS:\n",
    "            column_name = '%s_%s' % (player_name, field)\n",
    "            row.append((column_name, player[field]))\n",
    "            \n",
    "    return collections.OrderedDict(row)\n",
    "    \n",
    "def extract_targets_csv(match, targets):\n",
    "    return collections.OrderedDict([('match_id_hash', match['match_id_hash'])] + [\n",
    "        (field, targets[field])\n",
    "        for field in ['game_time', 'radiant_win', 'duration', 'time_remaining', 'next_roshan_team']\n",
    "    ])"
   ]
  },
  {
   "cell_type": "code",
   "execution_count": 43,
   "metadata": {
    "_uuid": "b64cc62ea488cab9be4a75ec510918b8d6ca147a"
   },
   "outputs": [
    {
     "data": {
      "application/vnd.jupyter.widget-view+json": {
       "model_id": "86f885220e154a189c09bdcfd335b1d8",
       "version_major": 2,
       "version_minor": 0
      },
      "text/plain": [
       "HBox(children=(IntProgress(value=0, max=39675), HTML(value='')))"
      ]
     },
     "metadata": {},
     "output_type": "display_data"
    },
    {
     "name": "stdout",
     "output_type": "stream",
     "text": [
      "\n",
      "CPU times: user 1min 11s, sys: 3.21 s, total: 1min 14s\n",
      "Wall time: 1min 13s\n"
     ]
    }
   ],
   "source": [
    "%%time\n",
    "\n",
    "df_new_features = []\n",
    "df_new_targets = []\n",
    "\n",
    "for match in read_matches(os.path.join(PATH_TO_DATA, 'train_matches.jsonl')):\n",
    "    match_id_hash = match['match_id_hash']\n",
    "    features = extract_features_csv(match)\n",
    "    targets = extract_targets_csv(match, match['targets'])\n",
    "    \n",
    "    df_new_features.append(features)\n",
    "    df_new_targets.append(targets)\n",
    "    "
   ]
  },
  {
   "cell_type": "code",
   "execution_count": 44,
   "metadata": {
    "_uuid": "69b242ad4d20c20621e515c64b4e457f5faabbb4"
   },
   "outputs": [],
   "source": [
    "df_new_features = pd.DataFrame.from_records(df_new_features).set_index('match_id_hash')\n",
    "df_new_targets = pd.DataFrame.from_records(df_new_targets).set_index('match_id_hash')"
   ]
  },
  {
   "cell_type": "code",
   "execution_count": 45,
   "metadata": {
    "_uuid": "daa4cf4256d7dc400bde1889bb4e23bf0dc80ab4"
   },
   "outputs": [
    {
     "data": {
      "text/html": [
       "<div>\n",
       "<style scoped>\n",
       "    .dataframe tbody tr th:only-of-type {\n",
       "        vertical-align: middle;\n",
       "    }\n",
       "\n",
       "    .dataframe tbody tr th {\n",
       "        vertical-align: top;\n",
       "    }\n",
       "\n",
       "    .dataframe thead th {\n",
       "        text-align: right;\n",
       "    }\n",
       "</style>\n",
       "<table border=\"1\" class=\"dataframe\">\n",
       "  <thead>\n",
       "    <tr style=\"text-align: right;\">\n",
       "      <th></th>\n",
       "      <th>game_time</th>\n",
       "      <th>game_mode</th>\n",
       "      <th>lobby_type</th>\n",
       "      <th>objectives_len</th>\n",
       "      <th>chat_len</th>\n",
       "      <th>r1_hero_id</th>\n",
       "      <th>r1_kills</th>\n",
       "      <th>r1_deaths</th>\n",
       "      <th>r1_assists</th>\n",
       "      <th>r1_denies</th>\n",
       "      <th>r1_gold</th>\n",
       "      <th>r1_lh</th>\n",
       "      <th>r1_xp</th>\n",
       "      <th>r1_health</th>\n",
       "      <th>r1_max_health</th>\n",
       "      <th>r1_max_mana</th>\n",
       "      <th>r1_level</th>\n",
       "      <th>r1_x</th>\n",
       "      <th>r1_y</th>\n",
       "      <th>r1_stuns</th>\n",
       "      <th>r1_creeps_stacked</th>\n",
       "      <th>r1_camps_stacked</th>\n",
       "      <th>r1_rune_pickups</th>\n",
       "      <th>r1_firstblood_claimed</th>\n",
       "      <th>r1_teamfight_participation</th>\n",
       "      <th>r1_towers_killed</th>\n",
       "      <th>r1_roshans_killed</th>\n",
       "      <th>r1_obs_placed</th>\n",
       "      <th>r1_sen_placed</th>\n",
       "      <th>r2_hero_id</th>\n",
       "      <th>r2_kills</th>\n",
       "      <th>r2_deaths</th>\n",
       "      <th>r2_assists</th>\n",
       "      <th>r2_denies</th>\n",
       "      <th>r2_gold</th>\n",
       "      <th>r2_lh</th>\n",
       "      <th>r2_xp</th>\n",
       "      <th>r2_health</th>\n",
       "      <th>r2_max_health</th>\n",
       "      <th>r2_max_mana</th>\n",
       "      <th>...</th>\n",
       "      <th>d4_health</th>\n",
       "      <th>d4_max_health</th>\n",
       "      <th>d4_max_mana</th>\n",
       "      <th>d4_level</th>\n",
       "      <th>d4_x</th>\n",
       "      <th>d4_y</th>\n",
       "      <th>d4_stuns</th>\n",
       "      <th>d4_creeps_stacked</th>\n",
       "      <th>d4_camps_stacked</th>\n",
       "      <th>d4_rune_pickups</th>\n",
       "      <th>d4_firstblood_claimed</th>\n",
       "      <th>d4_teamfight_participation</th>\n",
       "      <th>d4_towers_killed</th>\n",
       "      <th>d4_roshans_killed</th>\n",
       "      <th>d4_obs_placed</th>\n",
       "      <th>d4_sen_placed</th>\n",
       "      <th>d5_hero_id</th>\n",
       "      <th>d5_kills</th>\n",
       "      <th>d5_deaths</th>\n",
       "      <th>d5_assists</th>\n",
       "      <th>d5_denies</th>\n",
       "      <th>d5_gold</th>\n",
       "      <th>d5_lh</th>\n",
       "      <th>d5_xp</th>\n",
       "      <th>d5_health</th>\n",
       "      <th>d5_max_health</th>\n",
       "      <th>d5_max_mana</th>\n",
       "      <th>d5_level</th>\n",
       "      <th>d5_x</th>\n",
       "      <th>d5_y</th>\n",
       "      <th>d5_stuns</th>\n",
       "      <th>d5_creeps_stacked</th>\n",
       "      <th>d5_camps_stacked</th>\n",
       "      <th>d5_rune_pickups</th>\n",
       "      <th>d5_firstblood_claimed</th>\n",
       "      <th>d5_teamfight_participation</th>\n",
       "      <th>d5_towers_killed</th>\n",
       "      <th>d5_roshans_killed</th>\n",
       "      <th>d5_obs_placed</th>\n",
       "      <th>d5_sen_placed</th>\n",
       "    </tr>\n",
       "    <tr>\n",
       "      <th>match_id_hash</th>\n",
       "      <th></th>\n",
       "      <th></th>\n",
       "      <th></th>\n",
       "      <th></th>\n",
       "      <th></th>\n",
       "      <th></th>\n",
       "      <th></th>\n",
       "      <th></th>\n",
       "      <th></th>\n",
       "      <th></th>\n",
       "      <th></th>\n",
       "      <th></th>\n",
       "      <th></th>\n",
       "      <th></th>\n",
       "      <th></th>\n",
       "      <th></th>\n",
       "      <th></th>\n",
       "      <th></th>\n",
       "      <th></th>\n",
       "      <th></th>\n",
       "      <th></th>\n",
       "      <th></th>\n",
       "      <th></th>\n",
       "      <th></th>\n",
       "      <th></th>\n",
       "      <th></th>\n",
       "      <th></th>\n",
       "      <th></th>\n",
       "      <th></th>\n",
       "      <th></th>\n",
       "      <th></th>\n",
       "      <th></th>\n",
       "      <th></th>\n",
       "      <th></th>\n",
       "      <th></th>\n",
       "      <th></th>\n",
       "      <th></th>\n",
       "      <th></th>\n",
       "      <th></th>\n",
       "      <th></th>\n",
       "      <th></th>\n",
       "      <th></th>\n",
       "      <th></th>\n",
       "      <th></th>\n",
       "      <th></th>\n",
       "      <th></th>\n",
       "      <th></th>\n",
       "      <th></th>\n",
       "      <th></th>\n",
       "      <th></th>\n",
       "      <th></th>\n",
       "      <th></th>\n",
       "      <th></th>\n",
       "      <th></th>\n",
       "      <th></th>\n",
       "      <th></th>\n",
       "      <th></th>\n",
       "      <th></th>\n",
       "      <th></th>\n",
       "      <th></th>\n",
       "      <th></th>\n",
       "      <th></th>\n",
       "      <th></th>\n",
       "      <th></th>\n",
       "      <th></th>\n",
       "      <th></th>\n",
       "      <th></th>\n",
       "      <th></th>\n",
       "      <th></th>\n",
       "      <th></th>\n",
       "      <th></th>\n",
       "      <th></th>\n",
       "      <th></th>\n",
       "      <th></th>\n",
       "      <th></th>\n",
       "      <th></th>\n",
       "      <th></th>\n",
       "      <th></th>\n",
       "      <th></th>\n",
       "      <th></th>\n",
       "      <th></th>\n",
       "    </tr>\n",
       "  </thead>\n",
       "  <tbody>\n",
       "    <tr>\n",
       "      <th>a400b8f29dece5f4d266f49f1ae2e98a</th>\n",
       "      <td>155</td>\n",
       "      <td>22</td>\n",
       "      <td>7</td>\n",
       "      <td>1</td>\n",
       "      <td>11</td>\n",
       "      <td>11</td>\n",
       "      <td>0</td>\n",
       "      <td>0</td>\n",
       "      <td>0</td>\n",
       "      <td>0</td>\n",
       "      <td>543</td>\n",
       "      <td>7</td>\n",
       "      <td>533</td>\n",
       "      <td>358</td>\n",
       "      <td>600</td>\n",
       "      <td>350.938</td>\n",
       "      <td>2</td>\n",
       "      <td>116</td>\n",
       "      <td>122</td>\n",
       "      <td>0.000</td>\n",
       "      <td>0</td>\n",
       "      <td>0</td>\n",
       "      <td>1</td>\n",
       "      <td>0</td>\n",
       "      <td>0.000</td>\n",
       "      <td>0</td>\n",
       "      <td>0</td>\n",
       "      <td>0</td>\n",
       "      <td>0</td>\n",
       "      <td>78</td>\n",
       "      <td>0</td>\n",
       "      <td>0</td>\n",
       "      <td>0</td>\n",
       "      <td>3</td>\n",
       "      <td>399</td>\n",
       "      <td>4</td>\n",
       "      <td>478</td>\n",
       "      <td>636</td>\n",
       "      <td>720</td>\n",
       "      <td>254.938</td>\n",
       "      <td>...</td>\n",
       "      <td>760</td>\n",
       "      <td>760</td>\n",
       "      <td>326.938</td>\n",
       "      <td>2</td>\n",
       "      <td>90</td>\n",
       "      <td>150</td>\n",
       "      <td>0.000</td>\n",
       "      <td>0</td>\n",
       "      <td>0</td>\n",
       "      <td>2</td>\n",
       "      <td>1</td>\n",
       "      <td>1.0</td>\n",
       "      <td>0</td>\n",
       "      <td>0</td>\n",
       "      <td>1</td>\n",
       "      <td>0</td>\n",
       "      <td>34</td>\n",
       "      <td>0</td>\n",
       "      <td>0</td>\n",
       "      <td>0</td>\n",
       "      <td>0</td>\n",
       "      <td>851</td>\n",
       "      <td>11</td>\n",
       "      <td>870</td>\n",
       "      <td>593</td>\n",
       "      <td>680</td>\n",
       "      <td>566.938</td>\n",
       "      <td>3</td>\n",
       "      <td>128</td>\n",
       "      <td>128</td>\n",
       "      <td>0.000</td>\n",
       "      <td>0</td>\n",
       "      <td>0</td>\n",
       "      <td>0</td>\n",
       "      <td>0</td>\n",
       "      <td>0.00</td>\n",
       "      <td>0</td>\n",
       "      <td>0</td>\n",
       "      <td>0</td>\n",
       "      <td>0</td>\n",
       "    </tr>\n",
       "    <tr>\n",
       "      <th>b9c57c450ce74a2af79c9ce96fac144d</th>\n",
       "      <td>658</td>\n",
       "      <td>4</td>\n",
       "      <td>0</td>\n",
       "      <td>3</td>\n",
       "      <td>10</td>\n",
       "      <td>15</td>\n",
       "      <td>7</td>\n",
       "      <td>2</td>\n",
       "      <td>0</td>\n",
       "      <td>7</td>\n",
       "      <td>5257</td>\n",
       "      <td>52</td>\n",
       "      <td>3937</td>\n",
       "      <td>1160</td>\n",
       "      <td>1160</td>\n",
       "      <td>566.938</td>\n",
       "      <td>8</td>\n",
       "      <td>76</td>\n",
       "      <td>78</td>\n",
       "      <td>0.000</td>\n",
       "      <td>0</td>\n",
       "      <td>0</td>\n",
       "      <td>0</td>\n",
       "      <td>0</td>\n",
       "      <td>0.438</td>\n",
       "      <td>0</td>\n",
       "      <td>0</td>\n",
       "      <td>0</td>\n",
       "      <td>0</td>\n",
       "      <td>96</td>\n",
       "      <td>3</td>\n",
       "      <td>1</td>\n",
       "      <td>2</td>\n",
       "      <td>3</td>\n",
       "      <td>3394</td>\n",
       "      <td>19</td>\n",
       "      <td>3897</td>\n",
       "      <td>1352</td>\n",
       "      <td>1380</td>\n",
       "      <td>386.938</td>\n",
       "      <td>...</td>\n",
       "      <td>567</td>\n",
       "      <td>1160</td>\n",
       "      <td>410.938</td>\n",
       "      <td>6</td>\n",
       "      <td>124</td>\n",
       "      <td>142</td>\n",
       "      <td>0.000</td>\n",
       "      <td>0</td>\n",
       "      <td>0</td>\n",
       "      <td>6</td>\n",
       "      <td>0</td>\n",
       "      <td>0.5</td>\n",
       "      <td>0</td>\n",
       "      <td>0</td>\n",
       "      <td>0</td>\n",
       "      <td>0</td>\n",
       "      <td>92</td>\n",
       "      <td>0</td>\n",
       "      <td>2</td>\n",
       "      <td>0</td>\n",
       "      <td>1</td>\n",
       "      <td>1423</td>\n",
       "      <td>8</td>\n",
       "      <td>1136</td>\n",
       "      <td>800</td>\n",
       "      <td>800</td>\n",
       "      <td>446.938</td>\n",
       "      <td>4</td>\n",
       "      <td>180</td>\n",
       "      <td>176</td>\n",
       "      <td>0.000</td>\n",
       "      <td>0</td>\n",
       "      <td>0</td>\n",
       "      <td>0</td>\n",
       "      <td>0</td>\n",
       "      <td>0.00</td>\n",
       "      <td>0</td>\n",
       "      <td>0</td>\n",
       "      <td>0</td>\n",
       "      <td>0</td>\n",
       "    </tr>\n",
       "    <tr>\n",
       "      <th>6db558535151ea18ca70a6892197db41</th>\n",
       "      <td>21</td>\n",
       "      <td>23</td>\n",
       "      <td>0</td>\n",
       "      <td>0</td>\n",
       "      <td>0</td>\n",
       "      <td>101</td>\n",
       "      <td>0</td>\n",
       "      <td>0</td>\n",
       "      <td>0</td>\n",
       "      <td>0</td>\n",
       "      <td>176</td>\n",
       "      <td>0</td>\n",
       "      <td>0</td>\n",
       "      <td>680</td>\n",
       "      <td>680</td>\n",
       "      <td>506.938</td>\n",
       "      <td>1</td>\n",
       "      <td>118</td>\n",
       "      <td>118</td>\n",
       "      <td>0.000</td>\n",
       "      <td>0</td>\n",
       "      <td>0</td>\n",
       "      <td>0</td>\n",
       "      <td>0</td>\n",
       "      <td>0.000</td>\n",
       "      <td>0</td>\n",
       "      <td>0</td>\n",
       "      <td>0</td>\n",
       "      <td>0</td>\n",
       "      <td>51</td>\n",
       "      <td>0</td>\n",
       "      <td>0</td>\n",
       "      <td>0</td>\n",
       "      <td>0</td>\n",
       "      <td>176</td>\n",
       "      <td>0</td>\n",
       "      <td>0</td>\n",
       "      <td>720</td>\n",
       "      <td>720</td>\n",
       "      <td>278.938</td>\n",
       "      <td>...</td>\n",
       "      <td>600</td>\n",
       "      <td>600</td>\n",
       "      <td>302.938</td>\n",
       "      <td>1</td>\n",
       "      <td>176</td>\n",
       "      <td>110</td>\n",
       "      <td>0.000</td>\n",
       "      <td>0</td>\n",
       "      <td>0</td>\n",
       "      <td>0</td>\n",
       "      <td>0</td>\n",
       "      <td>0.0</td>\n",
       "      <td>0</td>\n",
       "      <td>0</td>\n",
       "      <td>0</td>\n",
       "      <td>0</td>\n",
       "      <td>17</td>\n",
       "      <td>0</td>\n",
       "      <td>0</td>\n",
       "      <td>0</td>\n",
       "      <td>0</td>\n",
       "      <td>96</td>\n",
       "      <td>0</td>\n",
       "      <td>0</td>\n",
       "      <td>640</td>\n",
       "      <td>640</td>\n",
       "      <td>446.938</td>\n",
       "      <td>1</td>\n",
       "      <td>162</td>\n",
       "      <td>162</td>\n",
       "      <td>0.000</td>\n",
       "      <td>0</td>\n",
       "      <td>0</td>\n",
       "      <td>0</td>\n",
       "      <td>0</td>\n",
       "      <td>0.00</td>\n",
       "      <td>0</td>\n",
       "      <td>0</td>\n",
       "      <td>0</td>\n",
       "      <td>0</td>\n",
       "    </tr>\n",
       "    <tr>\n",
       "      <th>46a0ddce8f7ed2a8d9bd5edcbb925682</th>\n",
       "      <td>576</td>\n",
       "      <td>22</td>\n",
       "      <td>7</td>\n",
       "      <td>1</td>\n",
       "      <td>4</td>\n",
       "      <td>14</td>\n",
       "      <td>1</td>\n",
       "      <td>0</td>\n",
       "      <td>3</td>\n",
       "      <td>1</td>\n",
       "      <td>1613</td>\n",
       "      <td>0</td>\n",
       "      <td>1471</td>\n",
       "      <td>900</td>\n",
       "      <td>900</td>\n",
       "      <td>290.938</td>\n",
       "      <td>4</td>\n",
       "      <td>170</td>\n",
       "      <td>96</td>\n",
       "      <td>2.366</td>\n",
       "      <td>0</td>\n",
       "      <td>0</td>\n",
       "      <td>5</td>\n",
       "      <td>0</td>\n",
       "      <td>0.571</td>\n",
       "      <td>0</td>\n",
       "      <td>0</td>\n",
       "      <td>0</td>\n",
       "      <td>0</td>\n",
       "      <td>99</td>\n",
       "      <td>1</td>\n",
       "      <td>0</td>\n",
       "      <td>1</td>\n",
       "      <td>2</td>\n",
       "      <td>2816</td>\n",
       "      <td>30</td>\n",
       "      <td>3602</td>\n",
       "      <td>878</td>\n",
       "      <td>1100</td>\n",
       "      <td>494.938</td>\n",
       "      <td>...</td>\n",
       "      <td>1160</td>\n",
       "      <td>1160</td>\n",
       "      <td>386.938</td>\n",
       "      <td>4</td>\n",
       "      <td>176</td>\n",
       "      <td>100</td>\n",
       "      <td>4.999</td>\n",
       "      <td>0</td>\n",
       "      <td>0</td>\n",
       "      <td>2</td>\n",
       "      <td>0</td>\n",
       "      <td>0.0</td>\n",
       "      <td>0</td>\n",
       "      <td>0</td>\n",
       "      <td>0</td>\n",
       "      <td>0</td>\n",
       "      <td>86</td>\n",
       "      <td>0</td>\n",
       "      <td>1</td>\n",
       "      <td>0</td>\n",
       "      <td>1</td>\n",
       "      <td>1333</td>\n",
       "      <td>2</td>\n",
       "      <td>1878</td>\n",
       "      <td>630</td>\n",
       "      <td>740</td>\n",
       "      <td>518.938</td>\n",
       "      <td>5</td>\n",
       "      <td>82</td>\n",
       "      <td>160</td>\n",
       "      <td>8.665</td>\n",
       "      <td>3</td>\n",
       "      <td>1</td>\n",
       "      <td>3</td>\n",
       "      <td>0</td>\n",
       "      <td>0.00</td>\n",
       "      <td>0</td>\n",
       "      <td>0</td>\n",
       "      <td>2</td>\n",
       "      <td>0</td>\n",
       "    </tr>\n",
       "    <tr>\n",
       "      <th>b1b35ff97723d9b7ade1c9c3cf48f770</th>\n",
       "      <td>453</td>\n",
       "      <td>22</td>\n",
       "      <td>7</td>\n",
       "      <td>1</td>\n",
       "      <td>3</td>\n",
       "      <td>42</td>\n",
       "      <td>0</td>\n",
       "      <td>1</td>\n",
       "      <td>1</td>\n",
       "      <td>0</td>\n",
       "      <td>1404</td>\n",
       "      <td>9</td>\n",
       "      <td>1351</td>\n",
       "      <td>1000</td>\n",
       "      <td>1000</td>\n",
       "      <td>338.938</td>\n",
       "      <td>4</td>\n",
       "      <td>80</td>\n",
       "      <td>164</td>\n",
       "      <td>9.931</td>\n",
       "      <td>0</td>\n",
       "      <td>0</td>\n",
       "      <td>4</td>\n",
       "      <td>0</td>\n",
       "      <td>0.500</td>\n",
       "      <td>0</td>\n",
       "      <td>0</td>\n",
       "      <td>0</td>\n",
       "      <td>0</td>\n",
       "      <td>69</td>\n",
       "      <td>1</td>\n",
       "      <td>0</td>\n",
       "      <td>0</td>\n",
       "      <td>0</td>\n",
       "      <td>1840</td>\n",
       "      <td>14</td>\n",
       "      <td>1693</td>\n",
       "      <td>868</td>\n",
       "      <td>1000</td>\n",
       "      <td>350.938</td>\n",
       "      <td>...</td>\n",
       "      <td>680</td>\n",
       "      <td>680</td>\n",
       "      <td>374.938</td>\n",
       "      <td>4</td>\n",
       "      <td>176</td>\n",
       "      <td>108</td>\n",
       "      <td>13.597</td>\n",
       "      <td>0</td>\n",
       "      <td>0</td>\n",
       "      <td>2</td>\n",
       "      <td>0</td>\n",
       "      <td>0.5</td>\n",
       "      <td>0</td>\n",
       "      <td>0</td>\n",
       "      <td>0</td>\n",
       "      <td>0</td>\n",
       "      <td>1</td>\n",
       "      <td>0</td>\n",
       "      <td>1</td>\n",
       "      <td>1</td>\n",
       "      <td>8</td>\n",
       "      <td>2199</td>\n",
       "      <td>32</td>\n",
       "      <td>1919</td>\n",
       "      <td>692</td>\n",
       "      <td>740</td>\n",
       "      <td>302.938</td>\n",
       "      <td>5</td>\n",
       "      <td>104</td>\n",
       "      <td>162</td>\n",
       "      <td>0.000</td>\n",
       "      <td>2</td>\n",
       "      <td>1</td>\n",
       "      <td>2</td>\n",
       "      <td>0</td>\n",
       "      <td>0.25</td>\n",
       "      <td>0</td>\n",
       "      <td>0</td>\n",
       "      <td>0</td>\n",
       "      <td>0</td>\n",
       "    </tr>\n",
       "  </tbody>\n",
       "</table>\n",
       "</div>"
      ],
      "text/plain": [
       "                                  game_time      ...        d5_sen_placed\n",
       "match_id_hash                                    ...                     \n",
       "a400b8f29dece5f4d266f49f1ae2e98a        155      ...                    0\n",
       "b9c57c450ce74a2af79c9ce96fac144d        658      ...                    0\n",
       "6db558535151ea18ca70a6892197db41         21      ...                    0\n",
       "46a0ddce8f7ed2a8d9bd5edcbb925682        576      ...                    0\n",
       "b1b35ff97723d9b7ade1c9c3cf48f770        453      ...                    0\n",
       "\n",
       "[5 rows x 245 columns]"
      ]
     },
     "execution_count": 45,
     "metadata": {},
     "output_type": "execute_result"
    }
   ],
   "source": [
    "df_new_features.head()"
   ]
  },
  {
   "cell_type": "markdown",
   "metadata": {
    "_uuid": "8dee537e854b63f3eddac74af0a64d02a0bfe45b"
   },
   "source": [
    "## Go on!\n",
    "\n",
    "- Discuss new ideas in Slack \n",
    "- Create new features\n",
    "- Try new models and ensembles\n",
    "- Submit predictions\n",
    "- Go and win!"
   ]
  }
 ],
 "metadata": {
  "kernelspec": {
   "display_name": "Python 3",
   "language": "python",
   "name": "python3"
  },
  "language_info": {
   "codemirror_mode": {
    "name": "ipython",
    "version": 3
   },
   "file_extension": ".py",
   "mimetype": "text/x-python",
   "name": "python",
   "nbconvert_exporter": "python",
   "pygments_lexer": "ipython3",
   "version": "3.6.8"
  }
 },
 "nbformat": 4,
 "nbformat_minor": 1
}
